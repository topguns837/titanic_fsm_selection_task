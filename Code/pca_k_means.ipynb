{
  "nbformat": 4,
  "nbformat_minor": 0,
  "metadata": {
    "colab": {
      "name": "pca_k_means.ipynb",
      "provenance": []
    },
    "kernelspec": {
      "name": "python3",
      "display_name": "Python 3"
    },
    "language_info": {
      "name": "python"
    }
  },
  "cells": [
    {
      "cell_type": "code",
      "execution_count": 48,
      "metadata": {
        "id": "mp0aKaj-jrdf"
      },
      "outputs": [],
      "source": [
        "import pandas as  pd\n",
        "import numpy as np\n",
        "import matplotlib.pyplot as plt\n"
      ]
    },
    {
      "cell_type": "code",
      "source": [
        "df = pd.read_csv('Iris Dataset.csv')"
      ],
      "metadata": {
        "id": "bEaoAhbNyE9r"
      },
      "execution_count": 49,
      "outputs": []
    },
    {
      "cell_type": "code",
      "source": [
        "df.head()"
      ],
      "metadata": {
        "colab": {
          "base_uri": "https://localhost:8080/",
          "height": 206
        },
        "id": "Trtn5SWlyQnJ",
        "outputId": "c72f7eed-cd37-4ae6-f814-f0d63bd4c265"
      },
      "execution_count": 50,
      "outputs": [
        {
          "output_type": "execute_result",
          "data": {
            "text/plain": [
              "   Id  SepalLengthCm  SepalWidthCm  PetalLengthCm  PetalWidthCm      Species\n",
              "0   1            5.1           3.5            1.4           0.2  Iris-setosa\n",
              "1   2            4.9           3.0            1.4           0.2  Iris-setosa\n",
              "2   3            4.7           3.2            1.3           0.2  Iris-setosa\n",
              "3   4            4.6           3.1            1.5           0.2  Iris-setosa\n",
              "4   5            5.0           3.6            1.4           0.2  Iris-setosa"
            ],
            "text/html": [
              "\n",
              "  <div id=\"df-e11ebd58-c295-41f4-9f55-2eb854ada918\">\n",
              "    <div class=\"colab-df-container\">\n",
              "      <div>\n",
              "<style scoped>\n",
              "    .dataframe tbody tr th:only-of-type {\n",
              "        vertical-align: middle;\n",
              "    }\n",
              "\n",
              "    .dataframe tbody tr th {\n",
              "        vertical-align: top;\n",
              "    }\n",
              "\n",
              "    .dataframe thead th {\n",
              "        text-align: right;\n",
              "    }\n",
              "</style>\n",
              "<table border=\"1\" class=\"dataframe\">\n",
              "  <thead>\n",
              "    <tr style=\"text-align: right;\">\n",
              "      <th></th>\n",
              "      <th>Id</th>\n",
              "      <th>SepalLengthCm</th>\n",
              "      <th>SepalWidthCm</th>\n",
              "      <th>PetalLengthCm</th>\n",
              "      <th>PetalWidthCm</th>\n",
              "      <th>Species</th>\n",
              "    </tr>\n",
              "  </thead>\n",
              "  <tbody>\n",
              "    <tr>\n",
              "      <th>0</th>\n",
              "      <td>1</td>\n",
              "      <td>5.1</td>\n",
              "      <td>3.5</td>\n",
              "      <td>1.4</td>\n",
              "      <td>0.2</td>\n",
              "      <td>Iris-setosa</td>\n",
              "    </tr>\n",
              "    <tr>\n",
              "      <th>1</th>\n",
              "      <td>2</td>\n",
              "      <td>4.9</td>\n",
              "      <td>3.0</td>\n",
              "      <td>1.4</td>\n",
              "      <td>0.2</td>\n",
              "      <td>Iris-setosa</td>\n",
              "    </tr>\n",
              "    <tr>\n",
              "      <th>2</th>\n",
              "      <td>3</td>\n",
              "      <td>4.7</td>\n",
              "      <td>3.2</td>\n",
              "      <td>1.3</td>\n",
              "      <td>0.2</td>\n",
              "      <td>Iris-setosa</td>\n",
              "    </tr>\n",
              "    <tr>\n",
              "      <th>3</th>\n",
              "      <td>4</td>\n",
              "      <td>4.6</td>\n",
              "      <td>3.1</td>\n",
              "      <td>1.5</td>\n",
              "      <td>0.2</td>\n",
              "      <td>Iris-setosa</td>\n",
              "    </tr>\n",
              "    <tr>\n",
              "      <th>4</th>\n",
              "      <td>5</td>\n",
              "      <td>5.0</td>\n",
              "      <td>3.6</td>\n",
              "      <td>1.4</td>\n",
              "      <td>0.2</td>\n",
              "      <td>Iris-setosa</td>\n",
              "    </tr>\n",
              "  </tbody>\n",
              "</table>\n",
              "</div>\n",
              "      <button class=\"colab-df-convert\" onclick=\"convertToInteractive('df-e11ebd58-c295-41f4-9f55-2eb854ada918')\"\n",
              "              title=\"Convert this dataframe to an interactive table.\"\n",
              "              style=\"display:none;\">\n",
              "        \n",
              "  <svg xmlns=\"http://www.w3.org/2000/svg\" height=\"24px\"viewBox=\"0 0 24 24\"\n",
              "       width=\"24px\">\n",
              "    <path d=\"M0 0h24v24H0V0z\" fill=\"none\"/>\n",
              "    <path d=\"M18.56 5.44l.94 2.06.94-2.06 2.06-.94-2.06-.94-.94-2.06-.94 2.06-2.06.94zm-11 1L8.5 8.5l.94-2.06 2.06-.94-2.06-.94L8.5 2.5l-.94 2.06-2.06.94zm10 10l.94 2.06.94-2.06 2.06-.94-2.06-.94-.94-2.06-.94 2.06-2.06.94z\"/><path d=\"M17.41 7.96l-1.37-1.37c-.4-.4-.92-.59-1.43-.59-.52 0-1.04.2-1.43.59L10.3 9.45l-7.72 7.72c-.78.78-.78 2.05 0 2.83L4 21.41c.39.39.9.59 1.41.59.51 0 1.02-.2 1.41-.59l7.78-7.78 2.81-2.81c.8-.78.8-2.07 0-2.86zM5.41 20L4 18.59l7.72-7.72 1.47 1.35L5.41 20z\"/>\n",
              "  </svg>\n",
              "      </button>\n",
              "      \n",
              "  <style>\n",
              "    .colab-df-container {\n",
              "      display:flex;\n",
              "      flex-wrap:wrap;\n",
              "      gap: 12px;\n",
              "    }\n",
              "\n",
              "    .colab-df-convert {\n",
              "      background-color: #E8F0FE;\n",
              "      border: none;\n",
              "      border-radius: 50%;\n",
              "      cursor: pointer;\n",
              "      display: none;\n",
              "      fill: #1967D2;\n",
              "      height: 32px;\n",
              "      padding: 0 0 0 0;\n",
              "      width: 32px;\n",
              "    }\n",
              "\n",
              "    .colab-df-convert:hover {\n",
              "      background-color: #E2EBFA;\n",
              "      box-shadow: 0px 1px 2px rgba(60, 64, 67, 0.3), 0px 1px 3px 1px rgba(60, 64, 67, 0.15);\n",
              "      fill: #174EA6;\n",
              "    }\n",
              "\n",
              "    [theme=dark] .colab-df-convert {\n",
              "      background-color: #3B4455;\n",
              "      fill: #D2E3FC;\n",
              "    }\n",
              "\n",
              "    [theme=dark] .colab-df-convert:hover {\n",
              "      background-color: #434B5C;\n",
              "      box-shadow: 0px 1px 3px 1px rgba(0, 0, 0, 0.15);\n",
              "      filter: drop-shadow(0px 1px 2px rgba(0, 0, 0, 0.3));\n",
              "      fill: #FFFFFF;\n",
              "    }\n",
              "  </style>\n",
              "\n",
              "      <script>\n",
              "        const buttonEl =\n",
              "          document.querySelector('#df-e11ebd58-c295-41f4-9f55-2eb854ada918 button.colab-df-convert');\n",
              "        buttonEl.style.display =\n",
              "          google.colab.kernel.accessAllowed ? 'block' : 'none';\n",
              "\n",
              "        async function convertToInteractive(key) {\n",
              "          const element = document.querySelector('#df-e11ebd58-c295-41f4-9f55-2eb854ada918');\n",
              "          const dataTable =\n",
              "            await google.colab.kernel.invokeFunction('convertToInteractive',\n",
              "                                                     [key], {});\n",
              "          if (!dataTable) return;\n",
              "\n",
              "          const docLinkHtml = 'Like what you see? Visit the ' +\n",
              "            '<a target=\"_blank\" href=https://colab.research.google.com/notebooks/data_table.ipynb>data table notebook</a>'\n",
              "            + ' to learn more about interactive tables.';\n",
              "          element.innerHTML = '';\n",
              "          dataTable['output_type'] = 'display_data';\n",
              "          await google.colab.output.renderOutput(dataTable, element);\n",
              "          const docLink = document.createElement('div');\n",
              "          docLink.innerHTML = docLinkHtml;\n",
              "          element.appendChild(docLink);\n",
              "        }\n",
              "      </script>\n",
              "    </div>\n",
              "  </div>\n",
              "  "
            ]
          },
          "metadata": {},
          "execution_count": 50
        }
      ]
    },
    {
      "cell_type": "code",
      "source": [
        "np.max(np.array(df[\"SepalLengthCm\"])) - np.min(np.array(df[\"SepalLengthCm\"]))"
      ],
      "metadata": {
        "colab": {
          "base_uri": "https://localhost:8080/"
        },
        "id": "5fAPgbjvsLpr",
        "outputId": "76225dba-f060-44f9-cb09-ef6816b7f1c9"
      },
      "execution_count": 51,
      "outputs": [
        {
          "output_type": "execute_result",
          "data": {
            "text/plain": [
              "3.6000000000000005"
            ]
          },
          "metadata": {},
          "execution_count": 51
        }
      ]
    },
    {
      "cell_type": "code",
      "source": [
        "np.max(np.array(df[\"SepalWidthCm\"])) - np.min(np.array(df[\"SepalWidthCm\"]))"
      ],
      "metadata": {
        "colab": {
          "base_uri": "https://localhost:8080/"
        },
        "id": "o9Uz0zgHszYy",
        "outputId": "1ff2331c-2c57-4ba6-82ef-e30a830dbde1"
      },
      "execution_count": 52,
      "outputs": [
        {
          "output_type": "execute_result",
          "data": {
            "text/plain": [
              "2.4000000000000004"
            ]
          },
          "metadata": {},
          "execution_count": 52
        }
      ]
    },
    {
      "cell_type": "code",
      "source": [
        "np.max(np.array(df[\"PetalLengthCm\"])) - np.min(np.array(df[\"PetalLengthCm\"]))"
      ],
      "metadata": {
        "colab": {
          "base_uri": "https://localhost:8080/"
        },
        "id": "8TSRft9Us5ht",
        "outputId": "01582685-87a6-41e2-81f7-8593c479c509"
      },
      "execution_count": 53,
      "outputs": [
        {
          "output_type": "execute_result",
          "data": {
            "text/plain": [
              "5.9"
            ]
          },
          "metadata": {},
          "execution_count": 53
        }
      ]
    },
    {
      "cell_type": "code",
      "source": [
        "np.max(np.array(df[\"PetalWidthCm\"])) - np.min(np.array(df[\"PetalWidthCm\"]))"
      ],
      "metadata": {
        "colab": {
          "base_uri": "https://localhost:8080/"
        },
        "id": "BdS6eiOCs5kh",
        "outputId": "9e6ca0c4-2fa6-4288-d92a-259a8da91f23"
      },
      "execution_count": 54,
      "outputs": [
        {
          "output_type": "execute_result",
          "data": {
            "text/plain": [
              "2.4"
            ]
          },
          "metadata": {},
          "execution_count": 54
        }
      ]
    },
    {
      "cell_type": "code",
      "source": [
        "from sklearn.preprocessing import MinMaxScaler\n",
        "\n",
        "scaler = MinMaxScaler()\n",
        "\n",
        "scaled_data = scaler.fit_transform(df.drop([\"Id\" , \"Species\"] , axis = 1))\n",
        "\n",
        "X = pd.DataFrame(scaled_data , columns = [\"SepalLengthCm\" , \"SepalWidthCm\" , \"PetalLengthCm\" , \"PetalWidthCm\"])"
      ],
      "metadata": {
        "id": "sHBoxaBAs5nJ"
      },
      "execution_count": 55,
      "outputs": []
    },
    {
      "cell_type": "code",
      "source": [
        "X.head()"
      ],
      "metadata": {
        "colab": {
          "base_uri": "https://localhost:8080/",
          "height": 206
        },
        "id": "L4oZ-HoZs5pT",
        "outputId": "c52e2825-4ddd-455f-9a0e-0cf2ab94d3a2"
      },
      "execution_count": 56,
      "outputs": [
        {
          "output_type": "execute_result",
          "data": {
            "text/plain": [
              "   SepalLengthCm  SepalWidthCm  PetalLengthCm  PetalWidthCm\n",
              "0       0.222222      0.625000       0.067797      0.041667\n",
              "1       0.166667      0.416667       0.067797      0.041667\n",
              "2       0.111111      0.500000       0.050847      0.041667\n",
              "3       0.083333      0.458333       0.084746      0.041667\n",
              "4       0.194444      0.666667       0.067797      0.041667"
            ],
            "text/html": [
              "\n",
              "  <div id=\"df-53f990fb-a9c2-4629-b2a4-d014cdf49152\">\n",
              "    <div class=\"colab-df-container\">\n",
              "      <div>\n",
              "<style scoped>\n",
              "    .dataframe tbody tr th:only-of-type {\n",
              "        vertical-align: middle;\n",
              "    }\n",
              "\n",
              "    .dataframe tbody tr th {\n",
              "        vertical-align: top;\n",
              "    }\n",
              "\n",
              "    .dataframe thead th {\n",
              "        text-align: right;\n",
              "    }\n",
              "</style>\n",
              "<table border=\"1\" class=\"dataframe\">\n",
              "  <thead>\n",
              "    <tr style=\"text-align: right;\">\n",
              "      <th></th>\n",
              "      <th>SepalLengthCm</th>\n",
              "      <th>SepalWidthCm</th>\n",
              "      <th>PetalLengthCm</th>\n",
              "      <th>PetalWidthCm</th>\n",
              "    </tr>\n",
              "  </thead>\n",
              "  <tbody>\n",
              "    <tr>\n",
              "      <th>0</th>\n",
              "      <td>0.222222</td>\n",
              "      <td>0.625000</td>\n",
              "      <td>0.067797</td>\n",
              "      <td>0.041667</td>\n",
              "    </tr>\n",
              "    <tr>\n",
              "      <th>1</th>\n",
              "      <td>0.166667</td>\n",
              "      <td>0.416667</td>\n",
              "      <td>0.067797</td>\n",
              "      <td>0.041667</td>\n",
              "    </tr>\n",
              "    <tr>\n",
              "      <th>2</th>\n",
              "      <td>0.111111</td>\n",
              "      <td>0.500000</td>\n",
              "      <td>0.050847</td>\n",
              "      <td>0.041667</td>\n",
              "    </tr>\n",
              "    <tr>\n",
              "      <th>3</th>\n",
              "      <td>0.083333</td>\n",
              "      <td>0.458333</td>\n",
              "      <td>0.084746</td>\n",
              "      <td>0.041667</td>\n",
              "    </tr>\n",
              "    <tr>\n",
              "      <th>4</th>\n",
              "      <td>0.194444</td>\n",
              "      <td>0.666667</td>\n",
              "      <td>0.067797</td>\n",
              "      <td>0.041667</td>\n",
              "    </tr>\n",
              "  </tbody>\n",
              "</table>\n",
              "</div>\n",
              "      <button class=\"colab-df-convert\" onclick=\"convertToInteractive('df-53f990fb-a9c2-4629-b2a4-d014cdf49152')\"\n",
              "              title=\"Convert this dataframe to an interactive table.\"\n",
              "              style=\"display:none;\">\n",
              "        \n",
              "  <svg xmlns=\"http://www.w3.org/2000/svg\" height=\"24px\"viewBox=\"0 0 24 24\"\n",
              "       width=\"24px\">\n",
              "    <path d=\"M0 0h24v24H0V0z\" fill=\"none\"/>\n",
              "    <path d=\"M18.56 5.44l.94 2.06.94-2.06 2.06-.94-2.06-.94-.94-2.06-.94 2.06-2.06.94zm-11 1L8.5 8.5l.94-2.06 2.06-.94-2.06-.94L8.5 2.5l-.94 2.06-2.06.94zm10 10l.94 2.06.94-2.06 2.06-.94-2.06-.94-.94-2.06-.94 2.06-2.06.94z\"/><path d=\"M17.41 7.96l-1.37-1.37c-.4-.4-.92-.59-1.43-.59-.52 0-1.04.2-1.43.59L10.3 9.45l-7.72 7.72c-.78.78-.78 2.05 0 2.83L4 21.41c.39.39.9.59 1.41.59.51 0 1.02-.2 1.41-.59l7.78-7.78 2.81-2.81c.8-.78.8-2.07 0-2.86zM5.41 20L4 18.59l7.72-7.72 1.47 1.35L5.41 20z\"/>\n",
              "  </svg>\n",
              "      </button>\n",
              "      \n",
              "  <style>\n",
              "    .colab-df-container {\n",
              "      display:flex;\n",
              "      flex-wrap:wrap;\n",
              "      gap: 12px;\n",
              "    }\n",
              "\n",
              "    .colab-df-convert {\n",
              "      background-color: #E8F0FE;\n",
              "      border: none;\n",
              "      border-radius: 50%;\n",
              "      cursor: pointer;\n",
              "      display: none;\n",
              "      fill: #1967D2;\n",
              "      height: 32px;\n",
              "      padding: 0 0 0 0;\n",
              "      width: 32px;\n",
              "    }\n",
              "\n",
              "    .colab-df-convert:hover {\n",
              "      background-color: #E2EBFA;\n",
              "      box-shadow: 0px 1px 2px rgba(60, 64, 67, 0.3), 0px 1px 3px 1px rgba(60, 64, 67, 0.15);\n",
              "      fill: #174EA6;\n",
              "    }\n",
              "\n",
              "    [theme=dark] .colab-df-convert {\n",
              "      background-color: #3B4455;\n",
              "      fill: #D2E3FC;\n",
              "    }\n",
              "\n",
              "    [theme=dark] .colab-df-convert:hover {\n",
              "      background-color: #434B5C;\n",
              "      box-shadow: 0px 1px 3px 1px rgba(0, 0, 0, 0.15);\n",
              "      filter: drop-shadow(0px 1px 2px rgba(0, 0, 0, 0.3));\n",
              "      fill: #FFFFFF;\n",
              "    }\n",
              "  </style>\n",
              "\n",
              "      <script>\n",
              "        const buttonEl =\n",
              "          document.querySelector('#df-53f990fb-a9c2-4629-b2a4-d014cdf49152 button.colab-df-convert');\n",
              "        buttonEl.style.display =\n",
              "          google.colab.kernel.accessAllowed ? 'block' : 'none';\n",
              "\n",
              "        async function convertToInteractive(key) {\n",
              "          const element = document.querySelector('#df-53f990fb-a9c2-4629-b2a4-d014cdf49152');\n",
              "          const dataTable =\n",
              "            await google.colab.kernel.invokeFunction('convertToInteractive',\n",
              "                                                     [key], {});\n",
              "          if (!dataTable) return;\n",
              "\n",
              "          const docLinkHtml = 'Like what you see? Visit the ' +\n",
              "            '<a target=\"_blank\" href=https://colab.research.google.com/notebooks/data_table.ipynb>data table notebook</a>'\n",
              "            + ' to learn more about interactive tables.';\n",
              "          element.innerHTML = '';\n",
              "          dataTable['output_type'] = 'display_data';\n",
              "          await google.colab.output.renderOutput(dataTable, element);\n",
              "          const docLink = document.createElement('div');\n",
              "          docLink.innerHTML = docLinkHtml;\n",
              "          element.appendChild(docLink);\n",
              "        }\n",
              "      </script>\n",
              "    </div>\n",
              "  </div>\n",
              "  "
            ]
          },
          "metadata": {},
          "execution_count": 56
        }
      ]
    },
    {
      "cell_type": "code",
      "source": [
        "df[\"Species\"].value_counts()"
      ],
      "metadata": {
        "colab": {
          "base_uri": "https://localhost:8080/"
        },
        "id": "zrgBU42lwOYw",
        "outputId": "1f95b586-aec5-4473-ec0f-85302f650959"
      },
      "execution_count": 57,
      "outputs": [
        {
          "output_type": "execute_result",
          "data": {
            "text/plain": [
              "Iris-setosa        50\n",
              "Iris-versicolor    50\n",
              "Iris-virginica     50\n",
              "Name: Species, dtype: int64"
            ]
          },
          "metadata": {},
          "execution_count": 57
        }
      ]
    },
    {
      "cell_type": "code",
      "source": [
        "df.isnull().sum()"
      ],
      "metadata": {
        "colab": {
          "base_uri": "https://localhost:8080/"
        },
        "id": "18lh8zfdyRP8",
        "outputId": "f6d04515-e355-4d75-c26c-702cd1fa9b81"
      },
      "execution_count": 58,
      "outputs": [
        {
          "output_type": "execute_result",
          "data": {
            "text/plain": [
              "Id               0\n",
              "SepalLengthCm    0\n",
              "SepalWidthCm     0\n",
              "PetalLengthCm    0\n",
              "PetalWidthCm     0\n",
              "Species          0\n",
              "dtype: int64"
            ]
          },
          "metadata": {},
          "execution_count": 58
        }
      ]
    },
    {
      "cell_type": "code",
      "source": [
        "df.columns"
      ],
      "metadata": {
        "colab": {
          "base_uri": "https://localhost:8080/"
        },
        "id": "LCBuJ5Ke4cNm",
        "outputId": "578b2993-27d1-4bc8-f194-d474b4ba3d79"
      },
      "execution_count": 59,
      "outputs": [
        {
          "output_type": "execute_result",
          "data": {
            "text/plain": [
              "Index(['Id', 'SepalLengthCm', 'SepalWidthCm', 'PetalLengthCm', 'PetalWidthCm',\n",
              "       'Species'],\n",
              "      dtype='object')"
            ]
          },
          "metadata": {},
          "execution_count": 59
        }
      ]
    },
    {
      "cell_type": "code",
      "source": [
        "import numpy as np\n",
        " \n",
        "def PCA(X , num_components):\n",
        "     \n",
        "    #Step-1\n",
        "    X_meaned = X - np.mean(X , axis = 0)\n",
        "     \n",
        "    #Step-2\n",
        "    cov_mat = np.cov(X_meaned , rowvar = False)\n",
        "     \n",
        "    #Step-3\n",
        "    eigen_values , eigen_vectors = np.linalg.eigh(cov_mat)\n",
        "     \n",
        "    #Step-4\n",
        "    sorted_index = np.argsort(eigen_values)[::-1]\n",
        "    sorted_eigenvalue = eigen_values[sorted_index]\n",
        "    sorted_eigenvectors = eigen_vectors[:,sorted_index]\n",
        "     \n",
        "    #Step-5\n",
        "    eigenvector_subset = sorted_eigenvectors[:,0:num_components]\n",
        "     \n",
        "    #Step-6\n",
        "    X_reduced = np.dot(eigenvector_subset.transpose() , X_meaned.transpose() ).transpose()\n",
        "     \n",
        "    return X_reduced"
      ],
      "metadata": {
        "id": "NF8ZXBAdMHNp"
      },
      "execution_count": 60,
      "outputs": []
    },
    {
      "cell_type": "code",
      "source": [
        "mat_reduced = PCA(X , 3)"
      ],
      "metadata": {
        "id": "-cgtEOO-MHQE"
      },
      "execution_count": 67,
      "outputs": []
    },
    {
      "cell_type": "code",
      "source": [
        "principal_df = pd.DataFrame(mat_reduced , columns = ['PC1','PC2','PC3'])"
      ],
      "metadata": {
        "id": "1oPL7BaSMHSW"
      },
      "execution_count": 71,
      "outputs": []
    },
    {
      "cell_type": "code",
      "source": [
        "principal_df = pd.concat([principal_df , df[\"Species\"]] , axis = 1)"
      ],
      "metadata": {
        "id": "nIv3JKurMHU6"
      },
      "execution_count": 72,
      "outputs": []
    },
    {
      "cell_type": "code",
      "source": [
        "principal_df.head()"
      ],
      "metadata": {
        "colab": {
          "base_uri": "https://localhost:8080/",
          "height": 206
        },
        "id": "uesDmLvKMHXP",
        "outputId": "a88cdc2d-fc7d-4644-b514-a6d0560bec74"
      },
      "execution_count": 73,
      "outputs": [
        {
          "output_type": "execute_result",
          "data": {
            "text/plain": [
              "        PC1       PC2       PC3      Species\n",
              "0  0.630361  0.111556  0.016993  Iris-setosa\n",
              "1  0.623546 -0.100313  0.047120  Iris-setosa\n",
              "2  0.669793 -0.047220 -0.021648  Iris-setosa\n",
              "3  0.654633 -0.098791 -0.025214  Iris-setosa\n",
              "4  0.648263  0.137558 -0.016813  Iris-setosa"
            ],
            "text/html": [
              "\n",
              "  <div id=\"df-80465726-e488-4a8d-8154-e0b56e3749df\">\n",
              "    <div class=\"colab-df-container\">\n",
              "      <div>\n",
              "<style scoped>\n",
              "    .dataframe tbody tr th:only-of-type {\n",
              "        vertical-align: middle;\n",
              "    }\n",
              "\n",
              "    .dataframe tbody tr th {\n",
              "        vertical-align: top;\n",
              "    }\n",
              "\n",
              "    .dataframe thead th {\n",
              "        text-align: right;\n",
              "    }\n",
              "</style>\n",
              "<table border=\"1\" class=\"dataframe\">\n",
              "  <thead>\n",
              "    <tr style=\"text-align: right;\">\n",
              "      <th></th>\n",
              "      <th>PC1</th>\n",
              "      <th>PC2</th>\n",
              "      <th>PC3</th>\n",
              "      <th>Species</th>\n",
              "    </tr>\n",
              "  </thead>\n",
              "  <tbody>\n",
              "    <tr>\n",
              "      <th>0</th>\n",
              "      <td>0.630361</td>\n",
              "      <td>0.111556</td>\n",
              "      <td>0.016993</td>\n",
              "      <td>Iris-setosa</td>\n",
              "    </tr>\n",
              "    <tr>\n",
              "      <th>1</th>\n",
              "      <td>0.623546</td>\n",
              "      <td>-0.100313</td>\n",
              "      <td>0.047120</td>\n",
              "      <td>Iris-setosa</td>\n",
              "    </tr>\n",
              "    <tr>\n",
              "      <th>2</th>\n",
              "      <td>0.669793</td>\n",
              "      <td>-0.047220</td>\n",
              "      <td>-0.021648</td>\n",
              "      <td>Iris-setosa</td>\n",
              "    </tr>\n",
              "    <tr>\n",
              "      <th>3</th>\n",
              "      <td>0.654633</td>\n",
              "      <td>-0.098791</td>\n",
              "      <td>-0.025214</td>\n",
              "      <td>Iris-setosa</td>\n",
              "    </tr>\n",
              "    <tr>\n",
              "      <th>4</th>\n",
              "      <td>0.648263</td>\n",
              "      <td>0.137558</td>\n",
              "      <td>-0.016813</td>\n",
              "      <td>Iris-setosa</td>\n",
              "    </tr>\n",
              "  </tbody>\n",
              "</table>\n",
              "</div>\n",
              "      <button class=\"colab-df-convert\" onclick=\"convertToInteractive('df-80465726-e488-4a8d-8154-e0b56e3749df')\"\n",
              "              title=\"Convert this dataframe to an interactive table.\"\n",
              "              style=\"display:none;\">\n",
              "        \n",
              "  <svg xmlns=\"http://www.w3.org/2000/svg\" height=\"24px\"viewBox=\"0 0 24 24\"\n",
              "       width=\"24px\">\n",
              "    <path d=\"M0 0h24v24H0V0z\" fill=\"none\"/>\n",
              "    <path d=\"M18.56 5.44l.94 2.06.94-2.06 2.06-.94-2.06-.94-.94-2.06-.94 2.06-2.06.94zm-11 1L8.5 8.5l.94-2.06 2.06-.94-2.06-.94L8.5 2.5l-.94 2.06-2.06.94zm10 10l.94 2.06.94-2.06 2.06-.94-2.06-.94-.94-2.06-.94 2.06-2.06.94z\"/><path d=\"M17.41 7.96l-1.37-1.37c-.4-.4-.92-.59-1.43-.59-.52 0-1.04.2-1.43.59L10.3 9.45l-7.72 7.72c-.78.78-.78 2.05 0 2.83L4 21.41c.39.39.9.59 1.41.59.51 0 1.02-.2 1.41-.59l7.78-7.78 2.81-2.81c.8-.78.8-2.07 0-2.86zM5.41 20L4 18.59l7.72-7.72 1.47 1.35L5.41 20z\"/>\n",
              "  </svg>\n",
              "      </button>\n",
              "      \n",
              "  <style>\n",
              "    .colab-df-container {\n",
              "      display:flex;\n",
              "      flex-wrap:wrap;\n",
              "      gap: 12px;\n",
              "    }\n",
              "\n",
              "    .colab-df-convert {\n",
              "      background-color: #E8F0FE;\n",
              "      border: none;\n",
              "      border-radius: 50%;\n",
              "      cursor: pointer;\n",
              "      display: none;\n",
              "      fill: #1967D2;\n",
              "      height: 32px;\n",
              "      padding: 0 0 0 0;\n",
              "      width: 32px;\n",
              "    }\n",
              "\n",
              "    .colab-df-convert:hover {\n",
              "      background-color: #E2EBFA;\n",
              "      box-shadow: 0px 1px 2px rgba(60, 64, 67, 0.3), 0px 1px 3px 1px rgba(60, 64, 67, 0.15);\n",
              "      fill: #174EA6;\n",
              "    }\n",
              "\n",
              "    [theme=dark] .colab-df-convert {\n",
              "      background-color: #3B4455;\n",
              "      fill: #D2E3FC;\n",
              "    }\n",
              "\n",
              "    [theme=dark] .colab-df-convert:hover {\n",
              "      background-color: #434B5C;\n",
              "      box-shadow: 0px 1px 3px 1px rgba(0, 0, 0, 0.15);\n",
              "      filter: drop-shadow(0px 1px 2px rgba(0, 0, 0, 0.3));\n",
              "      fill: #FFFFFF;\n",
              "    }\n",
              "  </style>\n",
              "\n",
              "      <script>\n",
              "        const buttonEl =\n",
              "          document.querySelector('#df-80465726-e488-4a8d-8154-e0b56e3749df button.colab-df-convert');\n",
              "        buttonEl.style.display =\n",
              "          google.colab.kernel.accessAllowed ? 'block' : 'none';\n",
              "\n",
              "        async function convertToInteractive(key) {\n",
              "          const element = document.querySelector('#df-80465726-e488-4a8d-8154-e0b56e3749df');\n",
              "          const dataTable =\n",
              "            await google.colab.kernel.invokeFunction('convertToInteractive',\n",
              "                                                     [key], {});\n",
              "          if (!dataTable) return;\n",
              "\n",
              "          const docLinkHtml = 'Like what you see? Visit the ' +\n",
              "            '<a target=\"_blank\" href=https://colab.research.google.com/notebooks/data_table.ipynb>data table notebook</a>'\n",
              "            + ' to learn more about interactive tables.';\n",
              "          element.innerHTML = '';\n",
              "          dataTable['output_type'] = 'display_data';\n",
              "          await google.colab.output.renderOutput(dataTable, element);\n",
              "          const docLink = document.createElement('div');\n",
              "          docLink.innerHTML = docLinkHtml;\n",
              "          element.appendChild(docLink);\n",
              "        }\n",
              "      </script>\n",
              "    </div>\n",
              "  </div>\n",
              "  "
            ]
          },
          "metadata": {},
          "execution_count": 73
        }
      ]
    },
    {
      "cell_type": "code",
      "source": [
        "from mpl_toolkits import mplot3d\n",
        "import numpy as np\n",
        "import matplotlib.pyplot as plt\n",
        "\n",
        "fig = plt.figure(figsize = (12,6))\n",
        "ax = plt.axes(projection='3d')\n",
        "\n",
        "#ax.plot3D( principal_df['PC1'] , principal_df['PC2'] , principal_df['PC3'] , 'gray')\n",
        "\n",
        "ax.scatter3D(principal_df['PC1'] , principal_df['PC2'] , c = principal_df['PC3'] , cmap='Greens'  );\n"
      ],
      "metadata": {
        "colab": {
          "base_uri": "https://localhost:8080/",
          "height": 357
        },
        "id": "7Jea0xUvMHZ3",
        "outputId": "87b7787d-b50e-442a-fb53-78c6fe7f7ae6"
      },
      "execution_count": 81,
      "outputs": [
        {
          "output_type": "display_data",
          "data": {
            "text/plain": [
              "<Figure size 864x432 with 1 Axes>"
            ],
            "image/png": "[encoded data removed]"
          },
          "metadata": {
            "needs_background": "light"
          }
        }
      ]
    },
    {
      "cell_type": "code",
      "source": [
        ""
      ],
      "metadata": {
        "id": "fjpvDhcjMHcf"
      },
      "execution_count": null,
      "outputs": []
    },
    {
      "cell_type": "code",
      "source": [
        ""
      ],
      "metadata": {
        "id": "GSFDRuVtMHex"
      },
      "execution_count": null,
      "outputs": []
    },
    {
      "cell_type": "code",
      "source": [
        ""
      ],
      "metadata": {
        "id": "1ghwv9nIMHhd"
      },
      "execution_count": null,
      "outputs": []
    },
    {
      "cell_type": "code",
      "source": [
        ""
      ],
      "metadata": {
        "id": "vDMP5H2tMHjx"
      },
      "execution_count": null,
      "outputs": []
    },
    {
      "cell_type": "code",
      "source": [
        "import numpy as np\n",
        "import matplotlib.pyplot as plt\n",
        "from sklearn.preprocessing import StandardScaler\n",
        "from numpy.random import uniform\n",
        "from sklearn.datasets import make_blobs\n",
        "import seaborn as sns\n",
        "import random\n",
        "\n",
        "colors = 10*[\"g\",\"r\",\"c\",\"b\",\"k\"]\n",
        "class K_Means:\n",
        "    def __init__(self, k=3, tol=0.001, max_iter=300):\n",
        "        self.k = k\n",
        "        self.tol = tol\n",
        "        self.max_iter = max_iter\n",
        "\n",
        "    def fit(self,data):\n",
        "\n",
        "        self.centroids = {}\n",
        "\n",
        "        for i in range(self.k):\n",
        "            self.centroids[i] = data[i]\n",
        "\n",
        "        for i in range(self.max_iter):\n",
        "            self.classifications = {}\n",
        "\n",
        "            for i in range(self.k):\n",
        "                self.classifications[i] = []\n",
        "\n",
        "            for featureset in data:\n",
        "                distances = [np.linalg.norm(featureset-self.centroids[centroid]) for centroid in self.centroids]\n",
        "                classification = distances.index(min(distances))\n",
        "                self.classifications[classification].append(featureset)\n",
        "\n",
        "            prev_centroids = dict(self.centroids)\n",
        "\n",
        "            for classification in self.classifications:\n",
        "                self.centroids[classification] = np.average(self.classifications[classification],axis=0)\n",
        "\n",
        "            optimized = True\n",
        "\n",
        "            for c in self.centroids:\n",
        "                original_centroid = prev_centroids[c]\n",
        "                current_centroid = self.centroids[c]\n",
        "                if np.sum((current_centroid-original_centroid)/original_centroid*100.0) > self.tol:\n",
        "                    #print(np.sum((current_centroid-original_centroid)/original_centroid*100.0))\n",
        "                    optimized = False\n",
        "\n",
        "            if optimized:\n",
        "                break\n",
        "\n",
        "    def predict(self,data):\n",
        "        distances = [np.linalg.norm(data-self.centroids[centroid]) for centroid in self.centroids]\n",
        "        classification = distances.index(min(distances))\n",
        "        return classification"
      ],
      "metadata": {
        "id": "PCW8mGVGyRSm"
      },
      "execution_count": 32,
      "outputs": []
    },
    {
      "cell_type": "code",
      "source": [
        "#X = df.drop([\"Species\"] , axis = 1)"
      ],
      "metadata": {
        "id": "M6-ns1Pgv6Sp"
      },
      "execution_count": 33,
      "outputs": []
    },
    {
      "cell_type": "code",
      "source": [
        "clf = K_Means()\n",
        "clf.fit(np.array(X))\n",
        "\n",
        "for centroid in clf.centroids:\n",
        "    plt.scatter(clf.centroids[centroid][0], clf.centroids[centroid][1],\n",
        "                marker=\"o\", color=\"k\", s=150, linewidths=5)\n",
        "\n",
        "for classification in clf.classifications:\n",
        "    color = colors[classification]\n",
        "    for featureset in clf.classifications[classification]:\n",
        "        print(featureset)\n",
        "        plt.scatter(featureset[0], featureset[1], marker=\"x\", color=color, s=150, linewidths=5)\n",
        "        \n",
        "plt.show()\n"
      ],
      "metadata": {
        "colab": {
          "base_uri": "https://localhost:8080/",
          "height": 1000
        },
        "id": "If6upnn9yRU9",
        "outputId": "a39b556e-dc53-41c6-9b6d-411293f49aff"
      },
      "execution_count": 35,
      "outputs": [
        {
          "output_type": "stream",
          "name": "stdout",
          "text": [
            "[0.75       0.5        0.62711864 0.54166667]\n",
            "[0.72222222 0.45833333 0.66101695 0.58333333]\n",
            "[0.66666667 0.41666667 0.6779661  0.66666667]\n",
            "[0.55555556 0.54166667 0.84745763 1.        ]\n",
            "[0.77777778 0.41666667 0.83050847 0.83333333]\n",
            "[0.55555556 0.375      0.77966102 0.70833333]\n",
            "[0.61111111 0.41666667 0.81355932 0.875     ]\n",
            "[0.91666667 0.41666667 0.94915254 0.83333333]\n",
            "[0.83333333 0.375      0.89830508 0.70833333]\n",
            "[0.66666667 0.20833333 0.81355932 0.70833333]\n",
            "[0.80555556 0.66666667 0.86440678 1.        ]\n",
            "[0.61111111 0.5        0.69491525 0.79166667]\n",
            "[0.58333333 0.29166667 0.72881356 0.75      ]\n",
            "[0.69444444 0.41666667 0.76271186 0.83333333]\n",
            "[0.41666667 0.33333333 0.69491525 0.95833333]\n",
            "[0.58333333 0.5        0.72881356 0.91666667]\n",
            "[0.61111111 0.41666667 0.76271186 0.70833333]\n",
            "[0.94444444 0.75       0.96610169 0.875     ]\n",
            "[0.94444444 0.25       1.         0.91666667]\n",
            "[0.72222222 0.5        0.79661017 0.91666667]\n",
            "[0.94444444 0.33333333 0.96610169 0.79166667]\n",
            "[0.66666667 0.54166667 0.79661017 0.83333333]\n",
            "[0.80555556 0.5        0.84745763 0.70833333]\n",
            "[0.58333333 0.33333333 0.77966102 0.83333333]\n",
            "[0.80555556 0.41666667 0.81355932 0.625     ]\n",
            "[0.86111111 0.33333333 0.86440678 0.75      ]\n",
            "[1.         0.75       0.91525424 0.79166667]\n",
            "[0.58333333 0.33333333 0.77966102 0.875     ]\n",
            "[0.94444444 0.41666667 0.86440678 0.91666667]\n",
            "[0.55555556 0.58333333 0.77966102 0.95833333]\n",
            "[0.58333333 0.45833333 0.76271186 0.70833333]\n",
            "[0.72222222 0.45833333 0.74576271 0.83333333]\n",
            "[0.66666667 0.45833333 0.77966102 0.95833333]\n",
            "[0.72222222 0.45833333 0.69491525 0.91666667]\n",
            "[0.69444444 0.5        0.83050847 0.91666667]\n",
            "[0.66666667 0.54166667 0.79661017 1.        ]\n",
            "[0.66666667 0.41666667 0.71186441 0.91666667]\n",
            "[0.61111111 0.41666667 0.71186441 0.79166667]\n",
            "[0.52777778 0.58333333 0.74576271 0.91666667]\n",
            "[0.58333333 0.5        0.59322034 0.58333333]\n",
            "[0.33333333 0.125      0.50847458 0.5       ]\n",
            "[0.61111111 0.33333333 0.61016949 0.58333333]\n",
            "[0.38888889 0.33333333 0.59322034 0.5       ]\n",
            "[0.55555556 0.54166667 0.62711864 0.625     ]\n",
            "[0.16666667 0.16666667 0.38983051 0.375     ]\n",
            "[0.63888889 0.375      0.61016949 0.5       ]\n",
            "[0.25       0.29166667 0.49152542 0.54166667]\n",
            "[0.19444444 0.         0.42372881 0.375     ]\n",
            "[0.44444444 0.41666667 0.54237288 0.58333333]\n",
            "[0.47222222 0.08333333 0.50847458 0.375     ]\n",
            "[0.5        0.375      0.62711864 0.54166667]\n",
            "[0.36111111 0.375      0.44067797 0.5       ]\n",
            "[0.66666667 0.45833333 0.57627119 0.54166667]\n",
            "[0.36111111 0.41666667 0.59322034 0.58333333]\n",
            "[0.41666667 0.29166667 0.52542373 0.375     ]\n",
            "[0.52777778 0.08333333 0.59322034 0.58333333]\n",
            "[0.36111111 0.20833333 0.49152542 0.41666667]\n",
            "[0.44444444 0.5        0.6440678  0.70833333]\n",
            "[0.5        0.33333333 0.50847458 0.5       ]\n",
            "[0.55555556 0.20833333 0.66101695 0.58333333]\n",
            "[0.5        0.33333333 0.62711864 0.45833333]\n",
            "[0.58333333 0.375      0.55932203 0.5       ]\n",
            "[0.63888889 0.41666667 0.57627119 0.54166667]\n",
            "[0.69444444 0.33333333 0.6440678  0.54166667]\n",
            "[0.47222222 0.375      0.59322034 0.58333333]\n",
            "[0.38888889 0.25       0.42372881 0.375     ]\n",
            "[0.33333333 0.16666667 0.47457627 0.41666667]\n",
            "[0.33333333 0.16666667 0.45762712 0.375     ]\n",
            "[0.41666667 0.29166667 0.49152542 0.45833333]\n",
            "[0.47222222 0.29166667 0.69491525 0.625     ]\n",
            "[0.30555556 0.41666667 0.59322034 0.58333333]\n",
            "[0.47222222 0.58333333 0.59322034 0.625     ]\n",
            "[0.66666667 0.45833333 0.62711864 0.58333333]\n",
            "[0.55555556 0.125      0.57627119 0.5       ]\n",
            "[0.36111111 0.41666667 0.52542373 0.5       ]\n",
            "[0.33333333 0.20833333 0.50847458 0.5       ]\n",
            "[0.33333333 0.25       0.57627119 0.45833333]\n",
            "[0.5        0.41666667 0.61016949 0.54166667]\n",
            "[0.41666667 0.25       0.50847458 0.45833333]\n",
            "[0.19444444 0.125      0.38983051 0.375     ]\n",
            "[0.36111111 0.29166667 0.54237288 0.5       ]\n",
            "[0.38888889 0.41666667 0.54237288 0.45833333]\n",
            "[0.38888889 0.375      0.54237288 0.5       ]\n",
            "[0.52777778 0.375      0.55932203 0.5       ]\n",
            "[0.22222222 0.20833333 0.33898305 0.41666667]\n",
            "[0.38888889 0.33333333 0.52542373 0.5       ]\n",
            "[0.41666667 0.29166667 0.69491525 0.75      ]\n",
            "[0.16666667 0.20833333 0.59322034 0.66666667]\n",
            "[0.38888889 0.20833333 0.6779661  0.79166667]\n",
            "[0.47222222 0.08333333 0.6779661  0.58333333]\n",
            "[0.36111111 0.33333333 0.66101695 0.79166667]\n",
            "[0.55555556 0.29166667 0.66101695 0.70833333]\n",
            "[0.52777778 0.33333333 0.6440678  0.70833333]\n",
            "[0.5        0.41666667 0.66101695 0.70833333]\n",
            "[0.55555556 0.33333333 0.69491525 0.58333333]\n",
            "[0.5        0.25       0.77966102 0.54166667]\n",
            "[0.47222222 0.41666667 0.6440678  0.70833333]\n",
            "[0.41666667 0.29166667 0.69491525 0.75      ]\n",
            "[0.55555556 0.20833333 0.6779661  0.75      ]\n",
            "[0.44444444 0.41666667 0.69491525 0.70833333]\n",
            "[0.22222222 0.625      0.06779661 0.04166667]\n",
            "[0.16666667 0.41666667 0.06779661 0.04166667]\n",
            "[0.11111111 0.5        0.05084746 0.04166667]\n",
            "[0.08333333 0.45833333 0.08474576 0.04166667]\n",
            "[0.19444444 0.66666667 0.06779661 0.04166667]\n",
            "[0.30555556 0.79166667 0.11864407 0.125     ]\n",
            "[0.08333333 0.58333333 0.06779661 0.08333333]\n",
            "[0.19444444 0.58333333 0.08474576 0.04166667]\n",
            "[0.02777778 0.375      0.06779661 0.04166667]\n",
            "[0.16666667 0.45833333 0.08474576 0.        ]\n",
            "[0.30555556 0.70833333 0.08474576 0.04166667]\n",
            "[0.13888889 0.58333333 0.10169492 0.04166667]\n",
            "[0.13888889 0.41666667 0.06779661 0.        ]\n",
            "[0.         0.41666667 0.01694915 0.        ]\n",
            "[0.41666667 0.83333333 0.03389831 0.04166667]\n",
            "[0.38888889 1.         0.08474576 0.125     ]\n",
            "[0.30555556 0.79166667 0.05084746 0.125     ]\n",
            "[0.22222222 0.625      0.06779661 0.08333333]\n",
            "[0.38888889 0.75       0.11864407 0.08333333]\n",
            "[0.22222222 0.75       0.08474576 0.08333333]\n",
            "[0.30555556 0.58333333 0.11864407 0.04166667]\n",
            "[0.22222222 0.70833333 0.08474576 0.125     ]\n",
            "[0.08333333 0.66666667 0.         0.04166667]\n",
            "[0.22222222 0.54166667 0.11864407 0.16666667]\n",
            "[0.13888889 0.58333333 0.15254237 0.04166667]\n",
            "[0.19444444 0.41666667 0.10169492 0.04166667]\n",
            "[0.19444444 0.58333333 0.10169492 0.125     ]\n",
            "[0.25       0.625      0.08474576 0.04166667]\n",
            "[0.25       0.58333333 0.06779661 0.04166667]\n",
            "[0.11111111 0.5        0.10169492 0.04166667]\n",
            "[0.13888889 0.45833333 0.10169492 0.04166667]\n",
            "[0.30555556 0.58333333 0.08474576 0.125     ]\n",
            "[0.25       0.875      0.08474576 0.        ]\n",
            "[0.33333333 0.91666667 0.06779661 0.04166667]\n",
            "[0.16666667 0.45833333 0.08474576 0.        ]\n",
            "[0.19444444 0.5        0.03389831 0.04166667]\n",
            "[0.33333333 0.625      0.05084746 0.04166667]\n",
            "[0.16666667 0.45833333 0.08474576 0.        ]\n",
            "[0.02777778 0.41666667 0.05084746 0.04166667]\n",
            "[0.22222222 0.58333333 0.08474576 0.04166667]\n",
            "[0.19444444 0.625      0.05084746 0.08333333]\n",
            "[0.05555556 0.125      0.05084746 0.08333333]\n",
            "[0.02777778 0.5        0.05084746 0.04166667]\n",
            "[0.19444444 0.625      0.10169492 0.20833333]\n",
            "[0.22222222 0.75       0.15254237 0.125     ]\n",
            "[0.13888889 0.41666667 0.06779661 0.08333333]\n",
            "[0.22222222 0.75       0.10169492 0.04166667]\n",
            "[0.08333333 0.5        0.06779661 0.04166667]\n",
            "[0.27777778 0.70833333 0.08474576 0.04166667]\n",
            "[0.19444444 0.54166667 0.06779661 0.04166667]\n"
          ]
        },
        {
          "output_type": "display_data",
          "data": {
            "text/plain": [
              "<Figure size 432x288 with 1 Axes>"
            ],
            "image/png": "[encoded data removed]"
          },
          "metadata": {
            "needs_background": "light"
          }
        }
      ]
    },
    {
      "cell_type": "code",
      "source": [
        "\n",
        "X.plot(kind =\"scatter\",\n",
        "          x ='SepalLengthCm',\n",
        "          y ='PetalLengthCm')\n",
        "plt.grid()"
      ],
      "metadata": {
        "colab": {
          "base_uri": "https://localhost:8080/",
          "height": 279
        },
        "id": "7TP5B61ryRXu",
        "outputId": "e4457b84-1b3e-4d32-c283-d89ab091fbec"
      },
      "execution_count": 30,
      "outputs": [
        {
          "output_type": "display_data",
          "data": {
            "text/plain": [
              "<Figure size 432x288 with 1 Axes>"
            ],
            "image/png": "[encoded data removed]"
          },
          "metadata": {
            "needs_background": "light"
          }
        }
      ]
    },
    {
      "cell_type": "code",
      "source": [
        "for classification in clf.classifications:\n",
        "    color = [\"black\"]\n",
        "    for featureset in clf.classifications[classification]:\n",
        "        plt.scatter(featureset[0], featureset[1], marker=\"x\", color=color, s=150, linewidths=5)\n",
        "        \n",
        "plt.show()"
      ],
      "metadata": {
        "colab": {
          "base_uri": "https://localhost:8080/",
          "height": 265
        },
        "id": "9g6VCgZhyEL7",
        "outputId": "2fd79132-f64e-4d8d-906a-6e0ef27893b6"
      },
      "execution_count": 29,
      "outputs": [
        {
          "output_type": "display_data",
          "data": {
            "text/plain": [
              "<Figure size 432x288 with 1 Axes>"
            ],
            "image/png": "[encoded data removed]"
          },
          "metadata": {
            "needs_background": "light"
          }
        }
      ]
    },
    {
      "cell_type": "code",
      "source": [
        ""
      ],
      "metadata": {
        "id": "b6VNCatNyEOg"
      },
      "execution_count": 27,
      "outputs": []
    },
    {
      "cell_type": "code",
      "source": [
        ""
      ],
      "metadata": {
        "id": "PPrb3PWsyERm"
      },
      "execution_count": 27,
      "outputs": []
    },
    {
      "cell_type": "code",
      "source": [
        ""
      ],
      "metadata": {
        "id": "bqTycXy-yETi"
      },
      "execution_count": 27,
      "outputs": []
    },
    {
      "cell_type": "code",
      "source": [
        ""
      ],
      "metadata": {
        "id": "63AUy0XZyEWZ"
      },
      "execution_count": null,
      "outputs": []
    },
    {
      "cell_type": "code",
      "source": [
        ""
      ],
      "metadata": {
        "id": "btAcER6zyEZH"
      },
      "execution_count": null,
      "outputs": []
    },
    {
      "cell_type": "code",
      "source": [
        ""
      ],
      "metadata": {
        "id": "mcCoc1hdyEbv"
      },
      "execution_count": null,
      "outputs": []
    },
    {
      "cell_type": "code",
      "source": [
        ""
      ],
      "metadata": {
        "id": "7JAaH6iPyEep"
      },
      "execution_count": null,
      "outputs": []
    },
    {
      "cell_type": "code",
      "source": [
        ""
      ],
      "metadata": {
        "id": "-oMDxRCQyRaR"
      },
      "execution_count": null,
      "outputs": []
    },
    {
      "cell_type": "code",
      "source": [
        ""
      ],
      "metadata": {
        "id": "0W_bEldgyRci"
      },
      "execution_count": null,
      "outputs": []
    },
    {
      "cell_type": "code",
      "source": [
        ""
      ],
      "metadata": {
        "id": "Wrv6h4F7yRe4"
      },
      "execution_count": null,
      "outputs": []
    },
    {
      "cell_type": "code",
      "source": [
        ""
      ],
      "metadata": {
        "id": "6INQ-mdoyRhM"
      },
      "execution_count": null,
      "outputs": []
    }
  ]
}