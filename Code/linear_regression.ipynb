{
  "nbformat": 4,
  "nbformat_minor": 0,
  "metadata": {
    "colab": {
      "name": "linear_regression.ipynb",
      "provenance": [],
      "collapsed_sections": [
        "c5X_wexU4h9Q"
      ]
    },
    "kernelspec": {
      "name": "python3",
      "display_name": "Python 3"
    },
    "language_info": {
      "name": "python"
    }
  },
  "cells": [
    {
      "cell_type": "code",
      "execution_count": null,
      "metadata": {
        "id": "xtVWjObgXmQA"
      },
      "outputs": [],
      "source": [
        "import pandas as pd\n",
        "import numpy as np\n",
        "import matplotlib.pyplot as plt"
      ]
    },
    {
      "cell_type": "code",
      "source": [
        "train = pd.read_csv('Medical Price Dataset.csv' )   # Loading train  dataset"
      ],
      "metadata": {
        "id": "K-GlwfZqXxwH"
      },
      "execution_count": null,
      "outputs": []
    },
    {
      "cell_type": "code",
      "source": [
        "train.head()"
      ],
      "metadata": {
        "colab": {
          "base_uri": "https://localhost:8080/",
          "height": 206
        },
        "id": "XvU6nGpB7kP7",
        "outputId": "caf84b53-d55e-409a-bf80-28cec869375d"
      },
      "execution_count": null,
      "outputs": [
        {
          "output_type": "execute_result",
          "data": {
            "text/plain": [
              "   age     sex     bmi  children smoker     region      charges\n",
              "0   19  female  27.900         0    yes  southwest  16884.92400\n",
              "1   18    male  33.770         1     no  southeast   1725.55230\n",
              "2   28    male  33.000         3     no  southeast   4449.46200\n",
              "3   33    male  22.705         0     no  northwest  21984.47061\n",
              "4   32    male  28.880         0     no  northwest   3866.85520"
            ],
            "text/html": [
              "\n",
              "  <div id=\"df-562a3c97-3eee-41cf-9fb8-cc5984b93f71\">\n",
              "    <div class=\"colab-df-container\">\n",
              "      <div>\n",
              "<style scoped>\n",
              "    .dataframe tbody tr th:only-of-type {\n",
              "        vertical-align: middle;\n",
              "    }\n",
              "\n",
              "    .dataframe tbody tr th {\n",
              "        vertical-align: top;\n",
              "    }\n",
              "\n",
              "    .dataframe thead th {\n",
              "        text-align: right;\n",
              "    }\n",
              "</style>\n",
              "<table border=\"1\" class=\"dataframe\">\n",
              "  <thead>\n",
              "    <tr style=\"text-align: right;\">\n",
              "      <th></th>\n",
              "      <th>age</th>\n",
              "      <th>sex</th>\n",
              "      <th>bmi</th>\n",
              "      <th>children</th>\n",
              "      <th>smoker</th>\n",
              "      <th>region</th>\n",
              "      <th>charges</th>\n",
              "    </tr>\n",
              "  </thead>\n",
              "  <tbody>\n",
              "    <tr>\n",
              "      <th>0</th>\n",
              "      <td>19</td>\n",
              "      <td>female</td>\n",
              "      <td>27.900</td>\n",
              "      <td>0</td>\n",
              "      <td>yes</td>\n",
              "      <td>southwest</td>\n",
              "      <td>16884.92400</td>\n",
              "    </tr>\n",
              "    <tr>\n",
              "      <th>1</th>\n",
              "      <td>18</td>\n",
              "      <td>male</td>\n",
              "      <td>33.770</td>\n",
              "      <td>1</td>\n",
              "      <td>no</td>\n",
              "      <td>southeast</td>\n",
              "      <td>1725.55230</td>\n",
              "    </tr>\n",
              "    <tr>\n",
              "      <th>2</th>\n",
              "      <td>28</td>\n",
              "      <td>male</td>\n",
              "      <td>33.000</td>\n",
              "      <td>3</td>\n",
              "      <td>no</td>\n",
              "      <td>southeast</td>\n",
              "      <td>4449.46200</td>\n",
              "    </tr>\n",
              "    <tr>\n",
              "      <th>3</th>\n",
              "      <td>33</td>\n",
              "      <td>male</td>\n",
              "      <td>22.705</td>\n",
              "      <td>0</td>\n",
              "      <td>no</td>\n",
              "      <td>northwest</td>\n",
              "      <td>21984.47061</td>\n",
              "    </tr>\n",
              "    <tr>\n",
              "      <th>4</th>\n",
              "      <td>32</td>\n",
              "      <td>male</td>\n",
              "      <td>28.880</td>\n",
              "      <td>0</td>\n",
              "      <td>no</td>\n",
              "      <td>northwest</td>\n",
              "      <td>3866.85520</td>\n",
              "    </tr>\n",
              "  </tbody>\n",
              "</table>\n",
              "</div>\n",
              "      <button class=\"colab-df-convert\" onclick=\"convertToInteractive('df-562a3c97-3eee-41cf-9fb8-cc5984b93f71')\"\n",
              "              title=\"Convert this dataframe to an interactive table.\"\n",
              "              style=\"display:none;\">\n",
              "        \n",
              "  <svg xmlns=\"http://www.w3.org/2000/svg\" height=\"24px\"viewBox=\"0 0 24 24\"\n",
              "       width=\"24px\">\n",
              "    <path d=\"M0 0h24v24H0V0z\" fill=\"none\"/>\n",
              "    <path d=\"M18.56 5.44l.94 2.06.94-2.06 2.06-.94-2.06-.94-.94-2.06-.94 2.06-2.06.94zm-11 1L8.5 8.5l.94-2.06 2.06-.94-2.06-.94L8.5 2.5l-.94 2.06-2.06.94zm10 10l.94 2.06.94-2.06 2.06-.94-2.06-.94-.94-2.06-.94 2.06-2.06.94z\"/><path d=\"M17.41 7.96l-1.37-1.37c-.4-.4-.92-.59-1.43-.59-.52 0-1.04.2-1.43.59L10.3 9.45l-7.72 7.72c-.78.78-.78 2.05 0 2.83L4 21.41c.39.39.9.59 1.41.59.51 0 1.02-.2 1.41-.59l7.78-7.78 2.81-2.81c.8-.78.8-2.07 0-2.86zM5.41 20L4 18.59l7.72-7.72 1.47 1.35L5.41 20z\"/>\n",
              "  </svg>\n",
              "      </button>\n",
              "      \n",
              "  <style>\n",
              "    .colab-df-container {\n",
              "      display:flex;\n",
              "      flex-wrap:wrap;\n",
              "      gap: 12px;\n",
              "    }\n",
              "\n",
              "    .colab-df-convert {\n",
              "      background-color: #E8F0FE;\n",
              "      border: none;\n",
              "      border-radius: 50%;\n",
              "      cursor: pointer;\n",
              "      display: none;\n",
              "      fill: #1967D2;\n",
              "      height: 32px;\n",
              "      padding: 0 0 0 0;\n",
              "      width: 32px;\n",
              "    }\n",
              "\n",
              "    .colab-df-convert:hover {\n",
              "      background-color: #E2EBFA;\n",
              "      box-shadow: 0px 1px 2px rgba(60, 64, 67, 0.3), 0px 1px 3px 1px rgba(60, 64, 67, 0.15);\n",
              "      fill: #174EA6;\n",
              "    }\n",
              "\n",
              "    [theme=dark] .colab-df-convert {\n",
              "      background-color: #3B4455;\n",
              "      fill: #D2E3FC;\n",
              "    }\n",
              "\n",
              "    [theme=dark] .colab-df-convert:hover {\n",
              "      background-color: #434B5C;\n",
              "      box-shadow: 0px 1px 3px 1px rgba(0, 0, 0, 0.15);\n",
              "      filter: drop-shadow(0px 1px 2px rgba(0, 0, 0, 0.3));\n",
              "      fill: #FFFFFF;\n",
              "    }\n",
              "  </style>\n",
              "\n",
              "      <script>\n",
              "        const buttonEl =\n",
              "          document.querySelector('#df-562a3c97-3eee-41cf-9fb8-cc5984b93f71 button.colab-df-convert');\n",
              "        buttonEl.style.display =\n",
              "          google.colab.kernel.accessAllowed ? 'block' : 'none';\n",
              "\n",
              "        async function convertToInteractive(key) {\n",
              "          const element = document.querySelector('#df-562a3c97-3eee-41cf-9fb8-cc5984b93f71');\n",
              "          const dataTable =\n",
              "            await google.colab.kernel.invokeFunction('convertToInteractive',\n",
              "                                                     [key], {});\n",
              "          if (!dataTable) return;\n",
              "\n",
              "          const docLinkHtml = 'Like what you see? Visit the ' +\n",
              "            '<a target=\"_blank\" href=https://colab.research.google.com/notebooks/data_table.ipynb>data table notebook</a>'\n",
              "            + ' to learn more about interactive tables.';\n",
              "          element.innerHTML = '';\n",
              "          dataTable['output_type'] = 'display_data';\n",
              "          await google.colab.output.renderOutput(dataTable, element);\n",
              "          const docLink = document.createElement('div');\n",
              "          docLink.innerHTML = docLinkHtml;\n",
              "          element.appendChild(docLink);\n",
              "        }\n",
              "      </script>\n",
              "    </div>\n",
              "  </div>\n",
              "  "
            ]
          },
          "metadata": {},
          "execution_count": 3
        }
      ]
    },
    {
      "cell_type": "markdown",
      "source": [
        "Checking for null values"
      ],
      "metadata": {
        "id": "bgKjxWjW9Ghr"
      }
    },
    {
      "cell_type": "code",
      "source": [
        "train.isnull().sum()"
      ],
      "metadata": {
        "colab": {
          "base_uri": "https://localhost:8080/"
        },
        "id": "nTAnjCyZ-L7b",
        "outputId": "625ade11-8677-4239-e62d-bbaa68d6f9c9"
      },
      "execution_count": null,
      "outputs": [
        {
          "output_type": "execute_result",
          "data": {
            "text/plain": [
              "age         0\n",
              "sex         0\n",
              "bmi         0\n",
              "children    0\n",
              "smoker      0\n",
              "region      0\n",
              "charges     0\n",
              "dtype: int64"
            ]
          },
          "metadata": {},
          "execution_count": 4
        }
      ]
    },
    {
      "cell_type": "markdown",
      "source": [
        "## Exploratory Data Analysis"
      ],
      "metadata": {
        "id": "6Hrv5Aui9Kk_"
      }
    },
    {
      "cell_type": "markdown",
      "source": [
        "Countplot for sex"
      ],
      "metadata": {
        "id": "GIytCWz31K7Z"
      }
    },
    {
      "cell_type": "code",
      "source": [
        "plt.figure(figsize = (12,6))\n",
        "fig = train['sex'].value_counts().plot(kind = \"bar\")\n",
        "\n",
        "plt.title(\"Countplot for sex\")\n",
        "plt.xticks(rotation = 0)\n",
        "plt.xlabel(\"Sex\")\n",
        "plt.ylabel(\"Count\")\n",
        "\n",
        "plt.show(fig)"
      ],
      "metadata": {
        "colab": {
          "base_uri": "https://localhost:8080/",
          "height": 404
        },
        "id": "6hfuMtRDbrmy",
        "outputId": "71dfe8f0-d794-4bbd-cb64-ad0cd4f1d7fb"
      },
      "execution_count": null,
      "outputs": [
        {
          "output_type": "display_data",
          "data": {
            "text/plain": [
              "<Figure size 864x432 with 1 Axes>"
            ],
            "image/png": "[encoded data removed]"
          },
          "metadata": {
            "needs_background": "light"
          }
        }
      ]
    },
    {
      "cell_type": "markdown",
      "source": [
        "Countplot for bmi"
      ],
      "metadata": {
        "id": "ZaRt6TuV1Wxc"
      }
    },
    {
      "cell_type": "code",
      "source": [
        "plt.figure(figsize = (12,6))\n",
        "fig = train['bmi'].value_counts(normalize = True , bins = 5).plot(kind = \"bar\")\n",
        "\n",
        "plt.title(\"Countplot for bmi\")\n",
        "plt.xticks(rotation = 0)\n",
        "plt.xlabel(\"bmi\")\n",
        "plt.ylabel(\"Normalized Count\")\n",
        "plt.show(fig)"
      ],
      "metadata": {
        "colab": {
          "base_uri": "https://localhost:8080/",
          "height": 404
        },
        "id": "dio3yLzFbrpQ",
        "outputId": "3649dea9-d230-4150-dece-30ab67777371"
      },
      "execution_count": null,
      "outputs": [
        {
          "output_type": "display_data",
          "data": {
            "text/plain": [
              "<Figure size 864x432 with 1 Axes>"
            ],
            "image/png": "[encoded data removed]"
          },
          "metadata": {
            "needs_background": "light"
          }
        }
      ]
    },
    {
      "cell_type": "markdown",
      "source": [
        "Countplot for age"
      ],
      "metadata": {
        "id": "k7cr4eM41lz0"
      }
    },
    {
      "cell_type": "code",
      "source": [
        "plt.figure(figsize = (12,6))\n",
        "fig = train['age'].value_counts(normalize = False , bins = 5).plot(kind = \"bar\")\n",
        "\n",
        "plt.title(\"Countplot for age\")\n",
        "plt.xlabel(\"Age\")\n",
        "plt.ylabel(\"Count\")\n",
        "\n",
        "plt.xticks(rotation = 0)\n",
        "plt.show(fig)"
      ],
      "metadata": {
        "colab": {
          "base_uri": "https://localhost:8080/",
          "height": 404
        },
        "id": "G1SC5j5iieGP",
        "outputId": "44c4f6b1-18ea-4d21-f88e-e6479e179d35"
      },
      "execution_count": null,
      "outputs": [
        {
          "output_type": "display_data",
          "data": {
            "text/plain": [
              "<Figure size 864x432 with 1 Axes>"
            ],
            "image/png": "[encoded data removed]"
          },
          "metadata": {
            "needs_background": "light"
          }
        }
      ]
    },
    {
      "cell_type": "markdown",
      "source": [
        "Countplot for children"
      ],
      "metadata": {
        "id": "BI3M72G52A_V"
      }
    },
    {
      "cell_type": "code",
      "source": [
        "plt.figure(figsize = (12,6))\n",
        "fig = train['children'].value_counts(normalize = False).plot(kind = \"bar\")\n",
        "\n",
        "plt.title(\"Countplot for children\")\n",
        "plt.xlabel(\"children\")\n",
        "plt.ylabel(\"Count\")\n",
        "plt.xticks(rotation = 0)\n",
        "\n",
        "plt.show(fig)"
      ],
      "metadata": {
        "colab": {
          "base_uri": "https://localhost:8080/",
          "height": 404
        },
        "id": "m1RDaI4tbrr2",
        "outputId": "9e3fe9e7-2b6b-408b-e2ab-0597b7af69e6"
      },
      "execution_count": null,
      "outputs": [
        {
          "output_type": "display_data",
          "data": {
            "text/plain": [
              "<Figure size 864x432 with 1 Axes>"
            ],
            "image/png": "[encoded data removed]"
          },
          "metadata": {
            "needs_background": "light"
          }
        }
      ]
    },
    {
      "cell_type": "markdown",
      "source": [
        "Countplot for smoker"
      ],
      "metadata": {
        "id": "y_lBGomX2O5F"
      }
    },
    {
      "cell_type": "code",
      "source": [
        "plt.figure(figsize = (12,6))\n",
        "fig = train['smoker'].value_counts(normalize = False).plot(kind = \"bar\")\n",
        "\n",
        "plt.title(\"Countplot for smoker\")\n",
        "plt.xlabel(\"Smoker\")\n",
        "plt.ylabel(\"Count\")\n",
        "plt.xticks(rotation = 0)\n",
        "\n",
        "plt.show(fig)"
      ],
      "metadata": {
        "colab": {
          "base_uri": "https://localhost:8080/",
          "height": 404
        },
        "id": "yFTC_w6tbruY",
        "outputId": "197029df-5d04-427f-861e-0ed221f31266"
      },
      "execution_count": null,
      "outputs": [
        {
          "output_type": "display_data",
          "data": {
            "text/plain": [
              "<Figure size 864x432 with 1 Axes>"
            ],
            "image/png": "[encoded data removed]"
          },
          "metadata": {
            "needs_background": "light"
          }
        }
      ]
    },
    {
      "cell_type": "markdown",
      "source": [
        "Plot for Sex vs Charges "
      ],
      "metadata": {
        "id": "A0atQNsi2dZd"
      }
    },
    {
      "cell_type": "code",
      "source": [
        "df1 = train[train['sex'] == \"male\"]     # Splitting the dataframe\n",
        "df2 = train[train[\"sex\"] == \"female\"]   # Splitting the dataframe\n",
        "\n",
        "plt.figure(figsize = (12,6))\n",
        "\n",
        "plt.bar(df1['sex'].unique()[0] , np.mean(df1['charges']) , color = \"blue\" , label = \"male\" , width = 0.4 , align = \"center\")\n",
        "plt.bar(df2['sex'].unique()[0] , np.mean(df2['charges']) , color = \"red\" , label = \"female\" , width = 0.4 , align = \"center\")\n",
        "\n",
        "plt.title(\"Sex vs Charges\")\n",
        "plt.xlabel(\"Sex\")\n",
        "plt.ylabel(\"Averages Charges\")\n",
        "plt.legend()\n",
        "\n",
        "plt.show()"
      ],
      "metadata": {
        "colab": {
          "base_uri": "https://localhost:8080/",
          "height": 404
        },
        "id": "PZKjOWEgbrxN",
        "outputId": "1d111000-2ce2-4b3f-d6e4-64932da65716"
      },
      "execution_count": null,
      "outputs": [
        {
          "output_type": "display_data",
          "data": {
            "text/plain": [
              "<Figure size 864x432 with 1 Axes>"
            ],
            "image/png": "[encoded data removed]"
          },
          "metadata": {
            "needs_background": "light"
          }
        }
      ]
    },
    {
      "cell_type": "markdown",
      "source": [
        "### Inference : \"Sex\" feature doesn't affect \"Charges\""
      ],
      "metadata": {
        "id": "60T0gMgn20Yo"
      }
    },
    {
      "cell_type": "markdown",
      "source": [
        "Plot for Smoker vs Charges"
      ],
      "metadata": {
        "id": "-xg_hMxr2kMZ"
      }
    },
    {
      "cell_type": "code",
      "source": [
        "df1 = train[train['smoker'] == \"yes\"]   # Splitting the dataframe\n",
        "df2 = train[train[\"smoker\"] == \"no\"]    # Splitting the dataframe\n",
        "\n",
        "plt.figure(figsize = (12,6))\n",
        "\n",
        "plt.bar( \"Smoker\" , np.mean(df1['charges']) , color = \"blue\" , label = \"Smoker\" , width = 0.4)\n",
        "plt.bar( \"Non-smoker\" , np.mean(df2['charges']) , color = \"red\" , label = \"Non-smoker\" , width = 0.4)\n",
        "\n",
        "plt.title(\"Smoker vs Charges\")\n",
        "plt.xlabel(\"Smoker\")\n",
        "plt.ylabel(\"Averages Charges\")\n",
        "plt.legend()\n",
        "\n",
        "plt.show()"
      ],
      "metadata": {
        "colab": {
          "base_uri": "https://localhost:8080/",
          "height": 404
        },
        "id": "iVRqMSVcbrz6",
        "outputId": "50155a9d-2544-469e-81d9-74189ff7673e"
      },
      "execution_count": null,
      "outputs": [
        {
          "output_type": "display_data",
          "data": {
            "text/plain": [
              "<Figure size 864x432 with 1 Axes>"
            ],
            "image/png": "[encoded data removed]"
          },
          "metadata": {
            "needs_background": "light"
          }
        }
      ]
    },
    {
      "cell_type": "markdown",
      "source": [
        "### Inference : \"Smoker\" feature affects \"Charges\""
      ],
      "metadata": {
        "id": "kenJv4YQ28Yg"
      }
    },
    {
      "cell_type": "markdown",
      "source": [
        "Plot for Region vs Charges"
      ],
      "metadata": {
        "id": "5MB4YckE3eeV"
      }
    },
    {
      "cell_type": "code",
      "source": [
        "df1 = train[train['region'] == \"southwest\"]   # Splitting the dataframe\n",
        "df2 = train[train['region'] == \"southeast\"]   # Splitting the dataframe\n",
        "df3 = train[train['region'] == \"northwest\"]   # Splitting the dataframe\n",
        "df4 = train[train['region'] == \"northeast\"]   # Splitting the dataframe\n",
        "\n",
        "\n",
        "plt.figure(figsize = (12,6))\n",
        "\n",
        "plt.bar( \"southwest\" , np.mean(df1['charges']) , color = \"blue\" , label = \"southwest\" , width = 0.4)\n",
        "plt.bar( \"southeast\" , np.mean(df2['charges']) , color = \"red\" , label = \"southeast\" , width = 0.4)\n",
        "plt.bar( \"northwest\" , np.mean(df2['charges']) , color = \"yellow\" , label = \"northwest\" , width = 0.4)\n",
        "plt.bar( \"northeast\" , np.mean(df2['charges']) , color = \"pink\" , label = \"northeast\" , width = 0.4)\n",
        "\n",
        "plt.title(\"Region vs Charges\")\n",
        "plt.xlabel(\"Region\")\n",
        "plt.ylabel(\"Averages Charges\")\n",
        "plt.legend()\n",
        "\n",
        "plt.show()"
      ],
      "metadata": {
        "colab": {
          "base_uri": "https://localhost:8080/",
          "height": 404
        },
        "id": "bsTNC5bubr2c",
        "outputId": "b1416d66-7563-4462-8a76-8c4c88d5d4bf"
      },
      "execution_count": null,
      "outputs": [
        {
          "output_type": "display_data",
          "data": {
            "text/plain": [
              "<Figure size 864x432 with 1 Axes>"
            ],
            "image/png": "[encoded data removed]"
          },
          "metadata": {
            "needs_background": "light"
          }
        }
      ]
    },
    {
      "cell_type": "markdown",
      "source": [
        "### Inference : \"Region\" feature doesn't affect \"Charges\""
      ],
      "metadata": {
        "id": "4M2BOKPq4VE7"
      }
    },
    {
      "cell_type": "markdown",
      "source": [
        "Plot for Age vs Charges"
      ],
      "metadata": {
        "id": "FqWZxkzo3wW2"
      }
    },
    {
      "cell_type": "code",
      "source": [
        "df1 = train[(train['age'] >= 18) &  (train['age'] < 28)]    # Splitting the dataframe\n",
        "df2 = train[(train['age'] >= 28) &  (train['age'] < 38)]    # Splitting the dataframe\n",
        "df3 = train[(train['age'] >= 38) &  (train['age'] < 48)]    # Splitting the dataframe\n",
        "df4 = train[(train['age'] >= 48) &  (train['age'] < 58)]    # Splitting the dataframe\n",
        "df5 = train[(train['age'] >= 58) &  (train['age'] < 68)]    # Splitting the dataframe\n",
        "\n",
        "\n",
        "plt.figure(figsize = (12,6))\n",
        "\n",
        "plt.bar( \"[ 18 - 28 ]\" , np.median(df1['charges']) , color = \"blue\" , label = \"[ 18 - 28 ]\" , width = 0.4)\n",
        "plt.bar( \"[ 28 - 38 ]\" , np.median(df2['charges']) , color = \"red\" , label = \"[ 28 - 38 ]\" , width = 0.4)\n",
        "plt.bar( \"[ 38 - 48 ]\" , np.median(df3['charges']) , color = \"yellow\" , label = \"[ 38 - 48 ]\" , width = 0.4)\n",
        "plt.bar( \"[ 48 - 58 ]\" , np.median(df4['charges']) , color = \"pink\" , label = \"[ 48 - 58 ]\" , width = 0.4)\n",
        "plt.bar( \"[ 58 - 68 ]\" , np.median(df5['charges']) , color = \"green\" , label = \"[ 58 - 68 ]\" , width = 0.4)\n",
        "\n",
        "plt.title(\"Age vs Charges\")\n",
        "plt.xlabel(\"Age\")\n",
        "plt.ylabel(\"Averages Charges\")\n",
        "plt.legend()\n",
        "\n",
        "plt.show()"
      ],
      "metadata": {
        "colab": {
          "base_uri": "https://localhost:8080/",
          "height": 404
        },
        "id": "8HCz17Bqbr_2",
        "outputId": "b910ff53-968a-4ac2-f23f-441bf8f325e4"
      },
      "execution_count": null,
      "outputs": [
        {
          "output_type": "display_data",
          "data": {
            "text/plain": [
              "<Figure size 864x432 with 1 Axes>"
            ],
            "image/png": "[encoded data removed]"
          },
          "metadata": {
            "needs_background": "light"
          }
        }
      ]
    },
    {
      "cell_type": "markdown",
      "source": [
        "### Inference : \"Age\" feature affects \"Charges\""
      ],
      "metadata": {
        "id": "c5X_wexU4h9Q"
      }
    },
    {
      "cell_type": "markdown",
      "source": [
        "## Feature Engineering"
      ],
      "metadata": {
        "id": "R35L6T299nP8"
      }
    },
    {
      "cell_type": "markdown",
      "source": [
        "### Encoding Sex and Smoker columns"
      ],
      "metadata": {
        "id": "SRKUAxGi39Sl"
      }
    },
    {
      "cell_type": "code",
      "source": [
        "train[\"sex\"] = np.where(train['sex'] == \"male\" , 0 , 1) "
      ],
      "metadata": {
        "id": "qg1gCCjB7kSU"
      },
      "execution_count": null,
      "outputs": []
    },
    {
      "cell_type": "code",
      "source": [
        "train[\"smoker\"] = np.where(train['smoker'] == \"yes\" , 0 , 1) "
      ],
      "metadata": {
        "id": "a68NfMlGCEqM"
      },
      "execution_count": null,
      "outputs": []
    },
    {
      "cell_type": "code",
      "source": [
        "train.head()"
      ],
      "metadata": {
        "colab": {
          "base_uri": "https://localhost:8080/",
          "height": 206
        },
        "id": "LI8lefWd7kUy",
        "outputId": "979c11cb-7826-401d-ccdb-bcfac6d3556a"
      },
      "execution_count": null,
      "outputs": [
        {
          "output_type": "execute_result",
          "data": {
            "text/plain": [
              "   age  sex     bmi  children  smoker     region      charges\n",
              "0   19    1  27.900         0       0  southwest  16884.92400\n",
              "1   18    0  33.770         1       1  southeast   1725.55230\n",
              "2   28    0  33.000         3       1  southeast   4449.46200\n",
              "3   33    0  22.705         0       1  northwest  21984.47061\n",
              "4   32    0  28.880         0       1  northwest   3866.85520"
            ],
            "text/html": [
              "\n",
              "  <div id=\"df-6b360171-c517-485e-8019-90cb1001ee94\">\n",
              "    <div class=\"colab-df-container\">\n",
              "      <div>\n",
              "<style scoped>\n",
              "    .dataframe tbody tr th:only-of-type {\n",
              "        vertical-align: middle;\n",
              "    }\n",
              "\n",
              "    .dataframe tbody tr th {\n",
              "        vertical-align: top;\n",
              "    }\n",
              "\n",
              "    .dataframe thead th {\n",
              "        text-align: right;\n",
              "    }\n",
              "</style>\n",
              "<table border=\"1\" class=\"dataframe\">\n",
              "  <thead>\n",
              "    <tr style=\"text-align: right;\">\n",
              "      <th></th>\n",
              "      <th>age</th>\n",
              "      <th>sex</th>\n",
              "      <th>bmi</th>\n",
              "      <th>children</th>\n",
              "      <th>smoker</th>\n",
              "      <th>region</th>\n",
              "      <th>charges</th>\n",
              "    </tr>\n",
              "  </thead>\n",
              "  <tbody>\n",
              "    <tr>\n",
              "      <th>0</th>\n",
              "      <td>19</td>\n",
              "      <td>1</td>\n",
              "      <td>27.900</td>\n",
              "      <td>0</td>\n",
              "      <td>0</td>\n",
              "      <td>southwest</td>\n",
              "      <td>16884.92400</td>\n",
              "    </tr>\n",
              "    <tr>\n",
              "      <th>1</th>\n",
              "      <td>18</td>\n",
              "      <td>0</td>\n",
              "      <td>33.770</td>\n",
              "      <td>1</td>\n",
              "      <td>1</td>\n",
              "      <td>southeast</td>\n",
              "      <td>1725.55230</td>\n",
              "    </tr>\n",
              "    <tr>\n",
              "      <th>2</th>\n",
              "      <td>28</td>\n",
              "      <td>0</td>\n",
              "      <td>33.000</td>\n",
              "      <td>3</td>\n",
              "      <td>1</td>\n",
              "      <td>southeast</td>\n",
              "      <td>4449.46200</td>\n",
              "    </tr>\n",
              "    <tr>\n",
              "      <th>3</th>\n",
              "      <td>33</td>\n",
              "      <td>0</td>\n",
              "      <td>22.705</td>\n",
              "      <td>0</td>\n",
              "      <td>1</td>\n",
              "      <td>northwest</td>\n",
              "      <td>21984.47061</td>\n",
              "    </tr>\n",
              "    <tr>\n",
              "      <th>4</th>\n",
              "      <td>32</td>\n",
              "      <td>0</td>\n",
              "      <td>28.880</td>\n",
              "      <td>0</td>\n",
              "      <td>1</td>\n",
              "      <td>northwest</td>\n",
              "      <td>3866.85520</td>\n",
              "    </tr>\n",
              "  </tbody>\n",
              "</table>\n",
              "</div>\n",
              "      <button class=\"colab-df-convert\" onclick=\"convertToInteractive('df-6b360171-c517-485e-8019-90cb1001ee94')\"\n",
              "              title=\"Convert this dataframe to an interactive table.\"\n",
              "              style=\"display:none;\">\n",
              "        \n",
              "  <svg xmlns=\"http://www.w3.org/2000/svg\" height=\"24px\"viewBox=\"0 0 24 24\"\n",
              "       width=\"24px\">\n",
              "    <path d=\"M0 0h24v24H0V0z\" fill=\"none\"/>\n",
              "    <path d=\"M18.56 5.44l.94 2.06.94-2.06 2.06-.94-2.06-.94-.94-2.06-.94 2.06-2.06.94zm-11 1L8.5 8.5l.94-2.06 2.06-.94-2.06-.94L8.5 2.5l-.94 2.06-2.06.94zm10 10l.94 2.06.94-2.06 2.06-.94-2.06-.94-.94-2.06-.94 2.06-2.06.94z\"/><path d=\"M17.41 7.96l-1.37-1.37c-.4-.4-.92-.59-1.43-.59-.52 0-1.04.2-1.43.59L10.3 9.45l-7.72 7.72c-.78.78-.78 2.05 0 2.83L4 21.41c.39.39.9.59 1.41.59.51 0 1.02-.2 1.41-.59l7.78-7.78 2.81-2.81c.8-.78.8-2.07 0-2.86zM5.41 20L4 18.59l7.72-7.72 1.47 1.35L5.41 20z\"/>\n",
              "  </svg>\n",
              "      </button>\n",
              "      \n",
              "  <style>\n",
              "    .colab-df-container {\n",
              "      display:flex;\n",
              "      flex-wrap:wrap;\n",
              "      gap: 12px;\n",
              "    }\n",
              "\n",
              "    .colab-df-convert {\n",
              "      background-color: #E8F0FE;\n",
              "      border: none;\n",
              "      border-radius: 50%;\n",
              "      cursor: pointer;\n",
              "      display: none;\n",
              "      fill: #1967D2;\n",
              "      height: 32px;\n",
              "      padding: 0 0 0 0;\n",
              "      width: 32px;\n",
              "    }\n",
              "\n",
              "    .colab-df-convert:hover {\n",
              "      background-color: #E2EBFA;\n",
              "      box-shadow: 0px 1px 2px rgba(60, 64, 67, 0.3), 0px 1px 3px 1px rgba(60, 64, 67, 0.15);\n",
              "      fill: #174EA6;\n",
              "    }\n",
              "\n",
              "    [theme=dark] .colab-df-convert {\n",
              "      background-color: #3B4455;\n",
              "      fill: #D2E3FC;\n",
              "    }\n",
              "\n",
              "    [theme=dark] .colab-df-convert:hover {\n",
              "      background-color: #434B5C;\n",
              "      box-shadow: 0px 1px 3px 1px rgba(0, 0, 0, 0.15);\n",
              "      filter: drop-shadow(0px 1px 2px rgba(0, 0, 0, 0.3));\n",
              "      fill: #FFFFFF;\n",
              "    }\n",
              "  </style>\n",
              "\n",
              "      <script>\n",
              "        const buttonEl =\n",
              "          document.querySelector('#df-6b360171-c517-485e-8019-90cb1001ee94 button.colab-df-convert');\n",
              "        buttonEl.style.display =\n",
              "          google.colab.kernel.accessAllowed ? 'block' : 'none';\n",
              "\n",
              "        async function convertToInteractive(key) {\n",
              "          const element = document.querySelector('#df-6b360171-c517-485e-8019-90cb1001ee94');\n",
              "          const dataTable =\n",
              "            await google.colab.kernel.invokeFunction('convertToInteractive',\n",
              "                                                     [key], {});\n",
              "          if (!dataTable) return;\n",
              "\n",
              "          const docLinkHtml = 'Like what you see? Visit the ' +\n",
              "            '<a target=\"_blank\" href=https://colab.research.google.com/notebooks/data_table.ipynb>data table notebook</a>'\n",
              "            + ' to learn more about interactive tables.';\n",
              "          element.innerHTML = '';\n",
              "          dataTable['output_type'] = 'display_data';\n",
              "          await google.colab.output.renderOutput(dataTable, element);\n",
              "          const docLink = document.createElement('div');\n",
              "          docLink.innerHTML = docLinkHtml;\n",
              "          element.appendChild(docLink);\n",
              "        }\n",
              "      </script>\n",
              "    </div>\n",
              "  </div>\n",
              "  "
            ]
          },
          "metadata": {},
          "execution_count": 16
        }
      ]
    },
    {
      "cell_type": "markdown",
      "source": [
        "### Scaling numerical colummns"
      ],
      "metadata": {
        "id": "PXElvwfd4FHj"
      }
    },
    {
      "cell_type": "code",
      "source": [
        "from sklearn.preprocessing import StandardScaler\n",
        "\n",
        "scaler = StandardScaler()\n",
        "scaler.fit(np.array(train[\"bmi\"]).reshape(-1,1))\n",
        "train_scaled_bmi = pd.DataFrame(scaler.transform(np.array(train[\"bmi\"]).reshape(-1,1)),columns = [\"bmi\"])\n"
      ],
      "metadata": {
        "id": "0NIrKE1k7kXL"
      },
      "execution_count": null,
      "outputs": []
    },
    {
      "cell_type": "code",
      "source": [
        "from sklearn.preprocessing import StandardScaler\n",
        "\n",
        "scaler = StandardScaler()\n",
        "scaler.fit(np.array(train[\"age\"]).reshape(-1,1))\n",
        "train_scaled_age = pd.DataFrame(scaler.transform(np.array(train[\"age\"]).reshape(-1,1)),columns = [\"age\"])"
      ],
      "metadata": {
        "id": "o7dmbsZPCRd0"
      },
      "execution_count": null,
      "outputs": []
    },
    {
      "cell_type": "code",
      "source": [
        "train.drop([\"bmi\"] , axis = 1 , inplace = True)\n",
        "train.drop([\"age\"] , axis = 1 , inplace = True)"
      ],
      "metadata": {
        "id": "TEexbcAF7kcZ"
      },
      "execution_count": null,
      "outputs": []
    },
    {
      "cell_type": "code",
      "source": [
        "train = pd.concat([train , train_scaled_bmi , train_scaled_age] , axis = 1)"
      ],
      "metadata": {
        "id": "QletALx17ke4"
      },
      "execution_count": null,
      "outputs": []
    },
    {
      "cell_type": "code",
      "source": [
        "train.head(10)"
      ],
      "metadata": {
        "colab": {
          "base_uri": "https://localhost:8080/",
          "height": 363
        },
        "id": "uE8FnsWe7kgx",
        "outputId": "bd316db8-9f80-4883-b1c7-19412c3329bd"
      },
      "execution_count": null,
      "outputs": [
        {
          "output_type": "execute_result",
          "data": {
            "text/plain": [
              "   sex  children  smoker     region      charges       bmi       age\n",
              "0    1         0       0  southwest  16884.92400 -0.453320 -1.438764\n",
              "1    0         1       1  southeast   1725.55230  0.509621 -1.509965\n",
              "2    0         3       1  southeast   4449.46200  0.383307 -0.797954\n",
              "3    0         0       1  northwest  21984.47061 -1.305531 -0.441948\n",
              "4    0         0       1  northwest   3866.85520 -0.292556 -0.513149\n",
              "5    1         0       1  southeast   3756.62160 -0.807656 -0.584350\n",
              "6    1         1       1  southeast   8240.58960  0.455486  0.483668\n",
              "7    1         3       1  northwest   7281.50560 -0.479567 -0.157143\n",
              "8    0         2       1  northeast   6406.41070 -0.136714 -0.157143\n",
              "9    1         0       1  northwest  28923.13692 -0.791252  1.480485"
            ],
            "text/html": [
              "\n",
              "  <div id=\"df-29c005ab-0e2e-4f0c-a1cc-3f8567772cb5\">\n",
              "    <div class=\"colab-df-container\">\n",
              "      <div>\n",
              "<style scoped>\n",
              "    .dataframe tbody tr th:only-of-type {\n",
              "        vertical-align: middle;\n",
              "    }\n",
              "\n",
              "    .dataframe tbody tr th {\n",
              "        vertical-align: top;\n",
              "    }\n",
              "\n",
              "    .dataframe thead th {\n",
              "        text-align: right;\n",
              "    }\n",
              "</style>\n",
              "<table border=\"1\" class=\"dataframe\">\n",
              "  <thead>\n",
              "    <tr style=\"text-align: right;\">\n",
              "      <th></th>\n",
              "      <th>sex</th>\n",
              "      <th>children</th>\n",
              "      <th>smoker</th>\n",
              "      <th>region</th>\n",
              "      <th>charges</th>\n",
              "      <th>bmi</th>\n",
              "      <th>age</th>\n",
              "    </tr>\n",
              "  </thead>\n",
              "  <tbody>\n",
              "    <tr>\n",
              "      <th>0</th>\n",
              "      <td>1</td>\n",
              "      <td>0</td>\n",
              "      <td>0</td>\n",
              "      <td>southwest</td>\n",
              "      <td>16884.92400</td>\n",
              "      <td>-0.453320</td>\n",
              "      <td>-1.438764</td>\n",
              "    </tr>\n",
              "    <tr>\n",
              "      <th>1</th>\n",
              "      <td>0</td>\n",
              "      <td>1</td>\n",
              "      <td>1</td>\n",
              "      <td>southeast</td>\n",
              "      <td>1725.55230</td>\n",
              "      <td>0.509621</td>\n",
              "      <td>-1.509965</td>\n",
              "    </tr>\n",
              "    <tr>\n",
              "      <th>2</th>\n",
              "      <td>0</td>\n",
              "      <td>3</td>\n",
              "      <td>1</td>\n",
              "      <td>southeast</td>\n",
              "      <td>4449.46200</td>\n",
              "      <td>0.383307</td>\n",
              "      <td>-0.797954</td>\n",
              "    </tr>\n",
              "    <tr>\n",
              "      <th>3</th>\n",
              "      <td>0</td>\n",
              "      <td>0</td>\n",
              "      <td>1</td>\n",
              "      <td>northwest</td>\n",
              "      <td>21984.47061</td>\n",
              "      <td>-1.305531</td>\n",
              "      <td>-0.441948</td>\n",
              "    </tr>\n",
              "    <tr>\n",
              "      <th>4</th>\n",
              "      <td>0</td>\n",
              "      <td>0</td>\n",
              "      <td>1</td>\n",
              "      <td>northwest</td>\n",
              "      <td>3866.85520</td>\n",
              "      <td>-0.292556</td>\n",
              "      <td>-0.513149</td>\n",
              "    </tr>\n",
              "    <tr>\n",
              "      <th>5</th>\n",
              "      <td>1</td>\n",
              "      <td>0</td>\n",
              "      <td>1</td>\n",
              "      <td>southeast</td>\n",
              "      <td>3756.62160</td>\n",
              "      <td>-0.807656</td>\n",
              "      <td>-0.584350</td>\n",
              "    </tr>\n",
              "    <tr>\n",
              "      <th>6</th>\n",
              "      <td>1</td>\n",
              "      <td>1</td>\n",
              "      <td>1</td>\n",
              "      <td>southeast</td>\n",
              "      <td>8240.58960</td>\n",
              "      <td>0.455486</td>\n",
              "      <td>0.483668</td>\n",
              "    </tr>\n",
              "    <tr>\n",
              "      <th>7</th>\n",
              "      <td>1</td>\n",
              "      <td>3</td>\n",
              "      <td>1</td>\n",
              "      <td>northwest</td>\n",
              "      <td>7281.50560</td>\n",
              "      <td>-0.479567</td>\n",
              "      <td>-0.157143</td>\n",
              "    </tr>\n",
              "    <tr>\n",
              "      <th>8</th>\n",
              "      <td>0</td>\n",
              "      <td>2</td>\n",
              "      <td>1</td>\n",
              "      <td>northeast</td>\n",
              "      <td>6406.41070</td>\n",
              "      <td>-0.136714</td>\n",
              "      <td>-0.157143</td>\n",
              "    </tr>\n",
              "    <tr>\n",
              "      <th>9</th>\n",
              "      <td>1</td>\n",
              "      <td>0</td>\n",
              "      <td>1</td>\n",
              "      <td>northwest</td>\n",
              "      <td>28923.13692</td>\n",
              "      <td>-0.791252</td>\n",
              "      <td>1.480485</td>\n",
              "    </tr>\n",
              "  </tbody>\n",
              "</table>\n",
              "</div>\n",
              "      <button class=\"colab-df-convert\" onclick=\"convertToInteractive('df-29c005ab-0e2e-4f0c-a1cc-3f8567772cb5')\"\n",
              "              title=\"Convert this dataframe to an interactive table.\"\n",
              "              style=\"display:none;\">\n",
              "        \n",
              "  <svg xmlns=\"http://www.w3.org/2000/svg\" height=\"24px\"viewBox=\"0 0 24 24\"\n",
              "       width=\"24px\">\n",
              "    <path d=\"M0 0h24v24H0V0z\" fill=\"none\"/>\n",
              "    <path d=\"M18.56 5.44l.94 2.06.94-2.06 2.06-.94-2.06-.94-.94-2.06-.94 2.06-2.06.94zm-11 1L8.5 8.5l.94-2.06 2.06-.94-2.06-.94L8.5 2.5l-.94 2.06-2.06.94zm10 10l.94 2.06.94-2.06 2.06-.94-2.06-.94-.94-2.06-.94 2.06-2.06.94z\"/><path d=\"M17.41 7.96l-1.37-1.37c-.4-.4-.92-.59-1.43-.59-.52 0-1.04.2-1.43.59L10.3 9.45l-7.72 7.72c-.78.78-.78 2.05 0 2.83L4 21.41c.39.39.9.59 1.41.59.51 0 1.02-.2 1.41-.59l7.78-7.78 2.81-2.81c.8-.78.8-2.07 0-2.86zM5.41 20L4 18.59l7.72-7.72 1.47 1.35L5.41 20z\"/>\n",
              "  </svg>\n",
              "      </button>\n",
              "      \n",
              "  <style>\n",
              "    .colab-df-container {\n",
              "      display:flex;\n",
              "      flex-wrap:wrap;\n",
              "      gap: 12px;\n",
              "    }\n",
              "\n",
              "    .colab-df-convert {\n",
              "      background-color: #E8F0FE;\n",
              "      border: none;\n",
              "      border-radius: 50%;\n",
              "      cursor: pointer;\n",
              "      display: none;\n",
              "      fill: #1967D2;\n",
              "      height: 32px;\n",
              "      padding: 0 0 0 0;\n",
              "      width: 32px;\n",
              "    }\n",
              "\n",
              "    .colab-df-convert:hover {\n",
              "      background-color: #E2EBFA;\n",
              "      box-shadow: 0px 1px 2px rgba(60, 64, 67, 0.3), 0px 1px 3px 1px rgba(60, 64, 67, 0.15);\n",
              "      fill: #174EA6;\n",
              "    }\n",
              "\n",
              "    [theme=dark] .colab-df-convert {\n",
              "      background-color: #3B4455;\n",
              "      fill: #D2E3FC;\n",
              "    }\n",
              "\n",
              "    [theme=dark] .colab-df-convert:hover {\n",
              "      background-color: #434B5C;\n",
              "      box-shadow: 0px 1px 3px 1px rgba(0, 0, 0, 0.15);\n",
              "      filter: drop-shadow(0px 1px 2px rgba(0, 0, 0, 0.3));\n",
              "      fill: #FFFFFF;\n",
              "    }\n",
              "  </style>\n",
              "\n",
              "      <script>\n",
              "        const buttonEl =\n",
              "          document.querySelector('#df-29c005ab-0e2e-4f0c-a1cc-3f8567772cb5 button.colab-df-convert');\n",
              "        buttonEl.style.display =\n",
              "          google.colab.kernel.accessAllowed ? 'block' : 'none';\n",
              "\n",
              "        async function convertToInteractive(key) {\n",
              "          const element = document.querySelector('#df-29c005ab-0e2e-4f0c-a1cc-3f8567772cb5');\n",
              "          const dataTable =\n",
              "            await google.colab.kernel.invokeFunction('convertToInteractive',\n",
              "                                                     [key], {});\n",
              "          if (!dataTable) return;\n",
              "\n",
              "          const docLinkHtml = 'Like what you see? Visit the ' +\n",
              "            '<a target=\"_blank\" href=https://colab.research.google.com/notebooks/data_table.ipynb>data table notebook</a>'\n",
              "            + ' to learn more about interactive tables.';\n",
              "          element.innerHTML = '';\n",
              "          dataTable['output_type'] = 'display_data';\n",
              "          await google.colab.output.renderOutput(dataTable, element);\n",
              "          const docLink = document.createElement('div');\n",
              "          docLink.innerHTML = docLinkHtml;\n",
              "          element.appendChild(docLink);\n",
              "        }\n",
              "      </script>\n",
              "    </div>\n",
              "  </div>\n",
              "  "
            ]
          },
          "metadata": {},
          "execution_count": 21
        }
      ]
    },
    {
      "cell_type": "code",
      "source": [
        "train.isnull().sum()"
      ],
      "metadata": {
        "colab": {
          "base_uri": "https://localhost:8080/"
        },
        "id": "5rI6G-0AX2uj",
        "outputId": "ad34e458-eac5-4832-dceb-4d3d38cc8437"
      },
      "execution_count": null,
      "outputs": [
        {
          "output_type": "execute_result",
          "data": {
            "text/plain": [
              "sex         0\n",
              "children    0\n",
              "smoker      0\n",
              "region      0\n",
              "charges     0\n",
              "bmi         0\n",
              "age         0\n",
              "dtype: int64"
            ]
          },
          "metadata": {},
          "execution_count": 22
        }
      ]
    },
    {
      "cell_type": "markdown",
      "source": [
        "### Dropping unwanted columns"
      ],
      "metadata": {
        "id": "odvDD7lc4pN9"
      }
    },
    {
      "cell_type": "code",
      "source": [
        "train.drop(['region'] ,axis = 1 , inplace = True)"
      ],
      "metadata": {
        "id": "p6IE6o_NX36z"
      },
      "execution_count": null,
      "outputs": []
    },
    {
      "cell_type": "code",
      "source": [
        "train.head()"
      ],
      "metadata": {
        "colab": {
          "base_uri": "https://localhost:8080/",
          "height": 206
        },
        "id": "7lq6VPKoCNYa",
        "outputId": "4f62bf33-7499-4008-c11e-e13d0b21a5bc"
      },
      "execution_count": null,
      "outputs": [
        {
          "output_type": "execute_result",
          "data": {
            "text/plain": [
              "   sex  children  smoker      charges       bmi       age\n",
              "0    1         0       0  16884.92400 -0.453320 -1.438764\n",
              "1    0         1       1   1725.55230  0.509621 -1.509965\n",
              "2    0         3       1   4449.46200  0.383307 -0.797954\n",
              "3    0         0       1  21984.47061 -1.305531 -0.441948\n",
              "4    0         0       1   3866.85520 -0.292556 -0.513149"
            ],
            "text/html": [
              "\n",
              "  <div id=\"df-b538dd5b-e455-4df0-b818-faf52e70092f\">\n",
              "    <div class=\"colab-df-container\">\n",
              "      <div>\n",
              "<style scoped>\n",
              "    .dataframe tbody tr th:only-of-type {\n",
              "        vertical-align: middle;\n",
              "    }\n",
              "\n",
              "    .dataframe tbody tr th {\n",
              "        vertical-align: top;\n",
              "    }\n",
              "\n",
              "    .dataframe thead th {\n",
              "        text-align: right;\n",
              "    }\n",
              "</style>\n",
              "<table border=\"1\" class=\"dataframe\">\n",
              "  <thead>\n",
              "    <tr style=\"text-align: right;\">\n",
              "      <th></th>\n",
              "      <th>sex</th>\n",
              "      <th>children</th>\n",
              "      <th>smoker</th>\n",
              "      <th>charges</th>\n",
              "      <th>bmi</th>\n",
              "      <th>age</th>\n",
              "    </tr>\n",
              "  </thead>\n",
              "  <tbody>\n",
              "    <tr>\n",
              "      <th>0</th>\n",
              "      <td>1</td>\n",
              "      <td>0</td>\n",
              "      <td>0</td>\n",
              "      <td>16884.92400</td>\n",
              "      <td>-0.453320</td>\n",
              "      <td>-1.438764</td>\n",
              "    </tr>\n",
              "    <tr>\n",
              "      <th>1</th>\n",
              "      <td>0</td>\n",
              "      <td>1</td>\n",
              "      <td>1</td>\n",
              "      <td>1725.55230</td>\n",
              "      <td>0.509621</td>\n",
              "      <td>-1.509965</td>\n",
              "    </tr>\n",
              "    <tr>\n",
              "      <th>2</th>\n",
              "      <td>0</td>\n",
              "      <td>3</td>\n",
              "      <td>1</td>\n",
              "      <td>4449.46200</td>\n",
              "      <td>0.383307</td>\n",
              "      <td>-0.797954</td>\n",
              "    </tr>\n",
              "    <tr>\n",
              "      <th>3</th>\n",
              "      <td>0</td>\n",
              "      <td>0</td>\n",
              "      <td>1</td>\n",
              "      <td>21984.47061</td>\n",
              "      <td>-1.305531</td>\n",
              "      <td>-0.441948</td>\n",
              "    </tr>\n",
              "    <tr>\n",
              "      <th>4</th>\n",
              "      <td>0</td>\n",
              "      <td>0</td>\n",
              "      <td>1</td>\n",
              "      <td>3866.85520</td>\n",
              "      <td>-0.292556</td>\n",
              "      <td>-0.513149</td>\n",
              "    </tr>\n",
              "  </tbody>\n",
              "</table>\n",
              "</div>\n",
              "      <button class=\"colab-df-convert\" onclick=\"convertToInteractive('df-b538dd5b-e455-4df0-b818-faf52e70092f')\"\n",
              "              title=\"Convert this dataframe to an interactive table.\"\n",
              "              style=\"display:none;\">\n",
              "        \n",
              "  <svg xmlns=\"http://www.w3.org/2000/svg\" height=\"24px\"viewBox=\"0 0 24 24\"\n",
              "       width=\"24px\">\n",
              "    <path d=\"M0 0h24v24H0V0z\" fill=\"none\"/>\n",
              "    <path d=\"M18.56 5.44l.94 2.06.94-2.06 2.06-.94-2.06-.94-.94-2.06-.94 2.06-2.06.94zm-11 1L8.5 8.5l.94-2.06 2.06-.94-2.06-.94L8.5 2.5l-.94 2.06-2.06.94zm10 10l.94 2.06.94-2.06 2.06-.94-2.06-.94-.94-2.06-.94 2.06-2.06.94z\"/><path d=\"M17.41 7.96l-1.37-1.37c-.4-.4-.92-.59-1.43-.59-.52 0-1.04.2-1.43.59L10.3 9.45l-7.72 7.72c-.78.78-.78 2.05 0 2.83L4 21.41c.39.39.9.59 1.41.59.51 0 1.02-.2 1.41-.59l7.78-7.78 2.81-2.81c.8-.78.8-2.07 0-2.86zM5.41 20L4 18.59l7.72-7.72 1.47 1.35L5.41 20z\"/>\n",
              "  </svg>\n",
              "      </button>\n",
              "      \n",
              "  <style>\n",
              "    .colab-df-container {\n",
              "      display:flex;\n",
              "      flex-wrap:wrap;\n",
              "      gap: 12px;\n",
              "    }\n",
              "\n",
              "    .colab-df-convert {\n",
              "      background-color: #E8F0FE;\n",
              "      border: none;\n",
              "      border-radius: 50%;\n",
              "      cursor: pointer;\n",
              "      display: none;\n",
              "      fill: #1967D2;\n",
              "      height: 32px;\n",
              "      padding: 0 0 0 0;\n",
              "      width: 32px;\n",
              "    }\n",
              "\n",
              "    .colab-df-convert:hover {\n",
              "      background-color: #E2EBFA;\n",
              "      box-shadow: 0px 1px 2px rgba(60, 64, 67, 0.3), 0px 1px 3px 1px rgba(60, 64, 67, 0.15);\n",
              "      fill: #174EA6;\n",
              "    }\n",
              "\n",
              "    [theme=dark] .colab-df-convert {\n",
              "      background-color: #3B4455;\n",
              "      fill: #D2E3FC;\n",
              "    }\n",
              "\n",
              "    [theme=dark] .colab-df-convert:hover {\n",
              "      background-color: #434B5C;\n",
              "      box-shadow: 0px 1px 3px 1px rgba(0, 0, 0, 0.15);\n",
              "      filter: drop-shadow(0px 1px 2px rgba(0, 0, 0, 0.3));\n",
              "      fill: #FFFFFF;\n",
              "    }\n",
              "  </style>\n",
              "\n",
              "      <script>\n",
              "        const buttonEl =\n",
              "          document.querySelector('#df-b538dd5b-e455-4df0-b818-faf52e70092f button.colab-df-convert');\n",
              "        buttonEl.style.display =\n",
              "          google.colab.kernel.accessAllowed ? 'block' : 'none';\n",
              "\n",
              "        async function convertToInteractive(key) {\n",
              "          const element = document.querySelector('#df-b538dd5b-e455-4df0-b818-faf52e70092f');\n",
              "          const dataTable =\n",
              "            await google.colab.kernel.invokeFunction('convertToInteractive',\n",
              "                                                     [key], {});\n",
              "          if (!dataTable) return;\n",
              "\n",
              "          const docLinkHtml = 'Like what you see? Visit the ' +\n",
              "            '<a target=\"_blank\" href=https://colab.research.google.com/notebooks/data_table.ipynb>data table notebook</a>'\n",
              "            + ' to learn more about interactive tables.';\n",
              "          element.innerHTML = '';\n",
              "          dataTable['output_type'] = 'display_data';\n",
              "          await google.colab.output.renderOutput(dataTable, element);\n",
              "          const docLink = document.createElement('div');\n",
              "          docLink.innerHTML = docLinkHtml;\n",
              "          element.appendChild(docLink);\n",
              "        }\n",
              "      </script>\n",
              "    </div>\n",
              "  </div>\n",
              "  "
            ]
          },
          "metadata": {},
          "execution_count": 24
        }
      ]
    },
    {
      "cell_type": "markdown",
      "source": [
        "### Train-Validation Split"
      ],
      "metadata": {
        "id": "1F3dmzI84ss8"
      }
    },
    {
      "cell_type": "code",
      "source": [
        "import pandas as pd \n",
        " \n",
        "train_size = int(0.8 * len(train))\n",
        "\n",
        "\n",
        "train_set = train.iloc[:train_size , : ]\n",
        "val_set = train.iloc[train_size: , : ]"
      ],
      "metadata": {
        "id": "df4OhOGsCNax"
      },
      "execution_count": null,
      "outputs": []
    },
    {
      "cell_type": "markdown",
      "source": [
        "### Defining X_train , X_val , y_train and y_val"
      ],
      "metadata": {
        "id": "2tCSzYdM4wWc"
      }
    },
    {
      "cell_type": "code",
      "source": [
        "X_train = train_set.drop(['charges'],axis = 1)\n",
        "X_val = val_set.drop([\"charges\"],axis = 1)\n",
        "y_train = train_set[\"charges\"]\n",
        "y_val = val_set[\"charges\"]"
      ],
      "metadata": {
        "id": "-QncwiPyCNdD"
      },
      "execution_count": null,
      "outputs": []
    },
    {
      "cell_type": "markdown",
      "source": [
        "## Code for implementation of Linear Regression algorithm"
      ],
      "metadata": {
        "id": "4uoPfu_f4yVD"
      }
    },
    {
      "cell_type": "markdown",
      "source": [
        "![linear_regression.png](data:image/png;base64,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)"
      ],
      "metadata": {
        "id": "-VsYYprlmmZv"
      }
    },
    {
      "cell_type": "markdown",
      "source": [
        "## Linear Regression\n",
        "\n",
        "* Hypothesis Function : **h(m,c) : y = m*x + c** \n",
        "( *We are effectively trying to fit a straight line through the given data points* )\n",
        "<br><br>\n",
        "* Cost Function : **J(m,c) : $Σ_{i=1} ^{m}$ ($y_{i}$ - $y_{i}$')^2  * (1/(2*m)**\n",
        "\n",
        "  (*$y_{i}$ : value of hypothesis function for $i^{th}$ input, $y_{i}$' : Actual value for $i^{th}$ input*)\n",
        "<br><br>  \n",
        "* The cost function, as the name suggests, is a way to evaluate our current regression line. The lower the output of the cost function, the better the regression line fits the data.\n",
        "<br><br>\n",
        "* Our goal is to minimize the cost function. We use a gradient descent function\n",
        "to update the value of **m** and **c**.\n",
        "<br><br>\n",
        "\n",
        "* Gradient Descent for slope : **m : m - ($∂$ J(m) / $∂$ m) * $α$**\n",
        "* Gradient Descent for intercept : **c : c - ($∂$ J(c) / $∂$ c) * $α$** \n",
        " \n",
        "                    \n",
        "<br><br>\n",
        "* The value of the learning rate generally ranges from $10^{-1}$ to $10^{-3}$"
      ],
      "metadata": {
        "id": "ZSirQ7YfAnKa"
      }
    },
    {
      "cell_type": "code",
      "source": [
        "class LinearRegression() :\n",
        "      \n",
        "    def __init__( self, learning_rate, iterations ) :          \n",
        "        self.learning_rate = learning_rate          \n",
        "        self.iterations = iterations\n",
        "          \n",
        "    # Function for model training\n",
        "              \n",
        "    def fit( self, X, Y ) :          \n",
        "                 \n",
        "        self.m, self.n = X.shape          \n",
        "        \n",
        "        # Variable initialization\n",
        "        self.W = np.zeros( self.n )          \n",
        "        self.b = 0          \n",
        "        self.X = X          \n",
        "        self.Y = Y        \n",
        "          \n",
        "        # gradient descent algorithm                  \n",
        "        for i in range( self.iterations ) :              \n",
        "            self.update_weights()\n",
        "              \n",
        "        return self\n",
        "      \n",
        "    # Function to update slope and intercept using gradient descent\n",
        "      \n",
        "    def update_weights( self ) :             \n",
        "        Y_pred = self.predict( self.X )          \n",
        "        # calculate gradients (partial derivatives)  \n",
        "      \n",
        "        dW = - ( 2 * ( self.X.T ).dot( self.Y - Y_pred )  ) / self.m       \n",
        "        db = - 2 * np.sum( self.Y - Y_pred ) / self.m \n",
        "\n",
        "        # update slope and intercept\n",
        "      \n",
        "        self.W = self.W - self.learning_rate * dW      \n",
        "        self.b = self.b - self.learning_rate * db\n",
        "          \n",
        "        return self\n",
        "      \n",
        "    # Hypothesis function  h( x ) \n",
        "      \n",
        "    def predict( self, X ) :      \n",
        "        return X.dot( self.W ) + self.b\n"
      ],
      "metadata": {
        "id": "0s8NY4AdX4CR"
      },
      "execution_count": null,
      "outputs": []
    },
    {
      "cell_type": "markdown",
      "source": [
        "### Function to calculate Mean Squared Error"
      ],
      "metadata": {
        "id": "rwLskBMFQutL"
      }
    },
    {
      "cell_type": "code",
      "source": [
        "def mse(y_true , y_pred) :\n",
        "  mse = np.square(np.subtract(y_true,y_pred)).mean()\n",
        "  return mse"
      ],
      "metadata": {
        "id": "zI_dGg16QUF4"
      },
      "execution_count": null,
      "outputs": []
    },
    {
      "cell_type": "markdown",
      "source": [
        "### Finding the best learning rate"
      ],
      "metadata": {
        "id": "Z-Clb2Xt-EMP"
      }
    },
    {
      "cell_type": "code",
      "source": [
        "alpha_range = [0.1,0.3,0.9,0.01,0.03,0.09,0.001,0.003,0.009]\n",
        "\n",
        "error_vals = []\n",
        "\n",
        "for alpha in alpha_range:\n",
        "  lr_alpha = LinearRegression(alpha , 100)\n",
        "  lr_alpha.fit(X_train , y_train)\n",
        "  y_preds_alpha = np.array(lr_alpha.predict(X_val))\n",
        "  error_vals.append(round(mse(y_val , y_preds_alpha),2))"
      ],
      "metadata": {
        "id": "VExak38G5qr8"
      },
      "execution_count": null,
      "outputs": []
    },
    {
      "cell_type": "markdown",
      "source": [
        "### Plot for Learning Rate vs Error"
      ],
      "metadata": {
        "id": "Dg_hhL8x-HRm"
      }
    },
    {
      "cell_type": "code",
      "source": [
        "plt.figure(figsize = (12, 6))\n",
        "\n",
        "colors = [\"red\" , \"green\" , \"blue\" , \"cyan\" , \"pink\" , \"brown\" , \"purple\" , \"yellow\" , \"black\"]\n",
        "\n",
        "for i in range(len(alpha_range)) : \n",
        "  if alpha_range[i] == 0.3 or alpha_range[i] == 0.9 :\n",
        "    continue\n",
        "  else:\n",
        "    plt.bar(str(alpha_range[i]) , error_vals[i] , label = str(alpha_range[i]), color = colors[i] ,width = 0.4)\n",
        "\n",
        "\n",
        "plt.title(\"Learning Rate vs Error\")\n",
        "plt.xlabel(\"Learning Rate\")\n",
        "plt.ylabel(\"Mean Squared Error\")\n",
        "plt.legend()\n",
        "\n",
        "plt.show()"
      ],
      "metadata": {
        "colab": {
          "base_uri": "https://localhost:8080/",
          "height": 404
        },
        "id": "y-kkaGMm6QXq",
        "outputId": "b48ce11c-9ff7-4a19-c019-d0cfd6e8c163"
      },
      "execution_count": null,
      "outputs": [
        {
          "output_type": "display_data",
          "data": {
            "text/plain": [
              "<Figure size 864x432 with 1 Axes>"
            ],
            "image/png": "[encoded data removed]"
          },
          "metadata": {
            "needs_background": "light"
          }
        }
      ]
    },
    {
      "cell_type": "markdown",
      "source": [
        "### Inference : Learning Rate of 0.09 gives least error"
      ],
      "metadata": {
        "id": "cPk9fSoB-Y5s"
      }
    },
    {
      "cell_type": "code",
      "source": [
        "lr = LinearRegression(0.09 , 500)       # Object of class LinearRegression\n",
        "lr.fit(X_train , y_train)               # Fitting the train data"
      ],
      "metadata": {
        "colab": {
          "base_uri": "https://localhost:8080/"
        },
        "id": "LZlhql91X4Ey",
        "outputId": "40438aca-404c-4600-ce48-6d3126d1673d"
      },
      "execution_count": null,
      "outputs": [
        {
          "output_type": "execute_result",
          "data": {
            "text/plain": [
              "<__main__.LinearRegression at 0x7f0a284e5890>"
            ]
          },
          "metadata": {},
          "execution_count": 31
        }
      ]
    },
    {
      "cell_type": "code",
      "source": [
        "y_preds = np.array(lr.predict(X_val))   # Predicting for validation set"
      ],
      "metadata": {
        "id": "pTiQrRXuX4HC"
      },
      "execution_count": null,
      "outputs": []
    },
    {
      "cell_type": "code",
      "source": [
        "print(\"Mean Squared Error : {}\".format(round(mse(y_val , y_preds),2)))"
      ],
      "metadata": {
        "colab": {
          "base_uri": "https://localhost:8080/"
        },
        "id": "ienMfxdCYrMS",
        "outputId": "94003a6b-1d1d-49e2-8edf-2007c13f81ce"
      },
      "execution_count": null,
      "outputs": [
        {
          "output_type": "stream",
          "name": "stdout",
          "text": [
            "Mean Squared Error : 37018951.75\n"
          ]
        }
      ]
    }
  ]
}