{
  "nbformat": 4,
  "nbformat_minor": 0,
  "metadata": {
    "colab": {
      "name": "naive_bayes.ipynb",
      "provenance": []
    },
    "kernelspec": {
      "name": "python3",
      "display_name": "Python 3"
    },
    "language_info": {
      "name": "python"
    }
  },
  "cells": [
    {
      "cell_type": "code",
      "execution_count": 10,
      "metadata": {
        "id": "-Vjdky-bD9Ka"
      },
      "outputs": [],
      "source": [
        "import pandas as pd\n",
        "import numpy as np\n",
        "import matplotlib.pyplot as plt"
      ]
    },
    {
      "cell_type": "code",
      "source": [
        "train = pd.read_csv('cleaned_train.csv')\n",
        "test = pd.read_csv('cleaned_test.csv')"
      ],
      "metadata": {
        "id": "T5E0a3HuD94E"
      },
      "execution_count": 11,
      "outputs": []
    },
    {
      "cell_type": "code",
      "source": [
        "train.isnull().sum()"
      ],
      "metadata": {
        "colab": {
          "base_uri": "https://localhost:8080/"
        },
        "id": "8yN4ZPpoD96o",
        "outputId": "590ca6ef-4368-4709-dcb0-3c9de223dfe7"
      },
      "execution_count": 12,
      "outputs": [
        {
          "output_type": "execute_result",
          "data": {
            "text/plain": [
              "Survived       2\n",
              "Pclass         2\n",
              "SibSp          2\n",
              "Parch          2\n",
              "Gender_Name    2\n",
              "male           2\n",
              "Embarked_Q     2\n",
              "Embarked_S     2\n",
              "Age            2\n",
              "dtype: int64"
            ]
          },
          "metadata": {},
          "execution_count": 12
        }
      ]
    },
    {
      "cell_type": "markdown",
      "source": [
        "Drop null values"
      ],
      "metadata": {
        "id": "wwbfnu3MzAKd"
      }
    },
    {
      "cell_type": "code",
      "source": [
        "train.dropna(inplace=True)"
      ],
      "metadata": {
        "id": "3L224BkKD99Q"
      },
      "execution_count": 13,
      "outputs": []
    },
    {
      "cell_type": "code",
      "source": [
        "test.dropna(inplace = True)"
      ],
      "metadata": {
        "id": "Pfl6sgt5D9_z"
      },
      "execution_count": 14,
      "outputs": []
    },
    {
      "cell_type": "markdown",
      "source": [
        "Train-Validation Split"
      ],
      "metadata": {
        "id": "E5fenbjBzFgb"
      }
    },
    {
      "cell_type": "code",
      "source": [
        "import pandas as pd \n",
        " \n",
        "train_size = int(0.8 * len(train))\n",
        "\n",
        "\n",
        "train_set = train.iloc[:train_size , : ]\n",
        "val_set = train.iloc[train_size: , : ]"
      ],
      "metadata": {
        "id": "hRFHDVR7D-Ca"
      },
      "execution_count": 15,
      "outputs": []
    },
    {
      "cell_type": "markdown",
      "source": [
        "Defining X_train , X_val , y_train and y_val"
      ],
      "metadata": {
        "id": "Y0k-KwLfzIHC"
      }
    },
    {
      "cell_type": "code",
      "source": [
        "X_train = train_set.drop(['Survived'],axis = 1)\n",
        "X_val = val_set.drop([\"Survived\"],axis = 1)\n",
        "y_train = train_set[\"Survived\"]\n",
        "y_val = val_set[\"Survived\"]"
      ],
      "metadata": {
        "id": "S2qZjx_yD-FC"
      },
      "execution_count": 16,
      "outputs": []
    },
    {
      "cell_type": "markdown",
      "source": [
        "## Code for implementation of NaiveBayes algorithm"
      ],
      "metadata": {
        "id": "OPjCcpwHzK8b"
      }
    },
    {
      "cell_type": "code",
      "source": [
        "class NaiveBayesClassifier():\n",
        "    '''\n",
        "    Bayes Theorem form\n",
        "    P(y|X) = P(X|y) * P(y) / P(X)\n",
        "    '''\n",
        "    def calc_prior(self, features, target):\n",
        "        '''\n",
        "        prior probability P(y)\n",
        "        calculate prior probabilities\n",
        "        '''\n",
        "        self.prior = (features.groupby(target).apply(lambda x: len(x)) / self.rows).to_numpy()\n",
        "\n",
        "        return self.prior\n",
        "    \n",
        "    def calc_statistics(self, features, target):\n",
        "        '''\n",
        "        calculate mean, variance for each column and convert to numpy array\n",
        "        ''' \n",
        "        self.mean = features.groupby(target).apply(np.mean).to_numpy()\n",
        "        self.var = features.groupby(target).apply(np.var).to_numpy()\n",
        "              \n",
        "        return self.mean, self.var\n",
        "    \n",
        "    def gaussian_density(self, class_idx, x):     \n",
        "        '''\n",
        "        calculate probability from gaussian density function (normally distributed)\n",
        "        we will assume that probability of specific target value given specific class is normally distributed \n",
        "        \n",
        "        probability density function derived from wikipedia:\n",
        "        (1/√2pi*σ) * exp((-1/2)*((x-μ)^2)/(2*σ²)), where μ is mean, σ² is variance, σ is quare root of variance (standard deviation)\n",
        "        '''\n",
        "        mean = self.mean[class_idx]\n",
        "        var = self.var[class_idx]\n",
        "        numerator = np.exp((-1/2)*((x-mean)**2) / (2 * var))\n",
        "#         numerator = np.exp(-((x-mean)**2 / (2 * var)))\n",
        "        denominator = np.sqrt(2 * np.pi * var)\n",
        "        prob = numerator / denominator\n",
        "        return prob\n",
        "    \n",
        "    def calc_posterior(self, x):\n",
        "        posteriors = []\n",
        "\n",
        "        # calculate posterior probability for each class\n",
        "        for i in range(self.count):\n",
        "            prior = np.log(self.prior[i]) ## use the log to make it more numerically stable\n",
        "            conditional = np.sum(np.log(self.gaussian_density(i, x))) # use the log to make it more numerically stable\n",
        "            posterior = prior + conditional\n",
        "            posteriors.append(posterior)\n",
        "        # return class with highest posterior probability\n",
        "        return self.classes[np.argmax(posteriors)]\n",
        "     \n",
        "\n",
        "    def fit(self, features, target):\n",
        "        self.classes = np.unique(target)\n",
        "        self.count = len(self.classes)\n",
        "        self.feature_nums = features.shape[1]\n",
        "        self.rows = features.shape[0]\n",
        "        \n",
        "        self.calc_statistics(features, target)\n",
        "        self.calc_prior(features, target)\n",
        "        \n",
        "    def predict(self, features):\n",
        "        preds = [self.calc_posterior(f) for f in features.to_numpy()]\n",
        "        return preds\n",
        "\n",
        "    def accuracy(self, y_test, y_pred):\n",
        "        accuracy = np.sum(y_test == y_pred) / len(y_test)\n",
        "        return accuracy\n",
        "\n",
        "    def visualize(self, y_true, y_pred, target):\n",
        "        \n",
        "        tr = pd.DataFrame(data=y_true, columns=[target])\n",
        "        pr = pd.DataFrame(data=y_pred, columns=[target])\n",
        "        \n",
        "        \n",
        "        fig, ax = plt.subplots(1, 2, sharex='col', sharey='row', figsize=(15,6))\n",
        "        \n",
        "        sns.countplot(x=target, data=tr, ax=ax[0], palette='viridis', alpha=0.7, hue=target, dodge=False)\n",
        "        sns.countplot(x=target, data=pr, ax=ax[1], palette='viridis', alpha=0.7, hue=target, dodge=False)\n",
        "        \n",
        "\n",
        "        fig.suptitle('True vs Predicted Comparison', fontsize=20)\n",
        "\n",
        "        ax[0].tick_params(labelsize=12)\n",
        "        ax[1].tick_params(labelsize=12)\n",
        "        ax[0].set_title(\"True values\", fontsize=18)\n",
        "        ax[1].set_title(\"Predicted values\", fontsize=18)\n",
        "        plt.show()"
      ],
      "metadata": {
        "id": "EKwlgQUgD-SO"
      },
      "execution_count": 17,
      "outputs": []
    },
    {
      "cell_type": "code",
      "source": [
        "nbc = NaiveBayesClassifier()\n",
        "nbc.fit(X_train, y_train) "
      ],
      "metadata": {
        "id": "3xwvgV6BIUKM"
      },
      "execution_count": 18,
      "outputs": []
    },
    {
      "cell_type": "code",
      "source": [
        "y_preds = nbc.predict(X_val)"
      ],
      "metadata": {
        "id": "IzjObY5KIUMr"
      },
      "execution_count": 19,
      "outputs": []
    },
    {
      "cell_type": "markdown",
      "source": [
        "Function to calculate accuracy"
      ],
      "metadata": {
        "id": "Po6csoYtzUFT"
      }
    },
    {
      "cell_type": "code",
      "source": [
        "def accuracy(y_true,y_pred,normalize=True):\n",
        "    accuracy=[]\n",
        "    for i in range(len(y_pred)):\n",
        "        if y_pred[i]==y_true[i]:\n",
        "            accuracy.append(1)\n",
        "        else:\n",
        "            accuracy.append(0)\n",
        "    if normalize==True:\n",
        "        return np.mean(accuracy)\n",
        "    if normalize==False:\n",
        "        return sum(accuracy)"
      ],
      "metadata": {
        "id": "3eWjeFjxIUPE"
      },
      "execution_count": 20,
      "outputs": []
    },
    {
      "cell_type": "code",
      "source": [
        "print(\"Accuracy : {} %\".format(round(accuracy(np.array(y_val) , y_preds )*100,2)))"
      ],
      "metadata": {
        "colab": {
          "base_uri": "https://localhost:8080/"
        },
        "id": "fwk0E2QCIURL",
        "outputId": "f18bcdde-1805-43a9-d62a-b14c3bceac75"
      },
      "execution_count": 22,
      "outputs": [
        {
          "output_type": "stream",
          "name": "stdout",
          "text": [
            "Accuracy : 82.02 %\n"
          ]
        }
      ]
    },
    {
      "cell_type": "code",
      "source": [
        ""
      ],
      "metadata": {
        "id": "TBf-7jFeIUTx"
      },
      "execution_count": null,
      "outputs": []
    },
    {
      "cell_type": "code",
      "source": [
        ""
      ],
      "metadata": {
        "id": "-CkIJtxsIUV9"
      },
      "execution_count": null,
      "outputs": []
    },
    {
      "cell_type": "code",
      "source": [
        ""
      ],
      "metadata": {
        "id": "1rbM6XY1D-U9"
      },
      "execution_count": null,
      "outputs": []
    },
    {
      "cell_type": "code",
      "source": [
        ""
      ],
      "metadata": {
        "id": "m-VatACoD-W8"
      },
      "execution_count": null,
      "outputs": []
    }
  ]
}