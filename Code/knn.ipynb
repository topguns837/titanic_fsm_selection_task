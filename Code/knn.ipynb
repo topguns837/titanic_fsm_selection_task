{
  "nbformat": 4,
  "nbformat_minor": 0,
  "metadata": {
    "colab": {
      "name": "knn.ipynb",
      "provenance": []
    },
    "kernelspec": {
      "name": "python3",
      "display_name": "Python 3"
    },
    "language_info": {
      "name": "python"
    }
  },
  "cells": [
    {
      "cell_type": "code",
      "execution_count": null,
      "metadata": {
        "id": "BI5nwZJOCL_x"
      },
      "outputs": [],
      "source": [
        "import pandas as pd\n",
        "import numpy as np\n",
        "import matplotlib.pyplot as plt"
      ]
    },
    {
      "cell_type": "code",
      "source": [
        "train = pd.read_csv('cleaned_train.csv')   # Loading cleaned train data\n",
        "test = pd.read_csv('cleaned_test.csv')     # Loading cleaned test data"
      ],
      "metadata": {
        "id": "47SEF8sRCSY2"
      },
      "execution_count": null,
      "outputs": []
    },
    {
      "cell_type": "markdown",
      "source": [
        "Dropping rows with null value (if any)"
      ],
      "metadata": {
        "id": "JxwkV8OXxQWX"
      }
    },
    {
      "cell_type": "code",
      "source": [
        "train.dropna(inplace=True)"
      ],
      "metadata": {
        "id": "AYiFB4E_CSdU"
      },
      "execution_count": null,
      "outputs": []
    },
    {
      "cell_type": "code",
      "source": [
        "test.dropna(inplace = True)"
      ],
      "metadata": {
        "id": "EBObIiR7CSfs"
      },
      "execution_count": null,
      "outputs": []
    },
    {
      "cell_type": "markdown",
      "source": [
        "Train-Validation Split\n"
      ],
      "metadata": {
        "id": "PXwxAzt4tRZ9"
      }
    },
    {
      "cell_type": "code",
      "source": [
        "import pandas as pd \n",
        " \n",
        "train_size = int(0.8 * len(train))\n",
        "\n",
        "\n",
        "train_set = train.iloc[:train_size , : ]\n",
        "val_set = train.iloc[train_size: , : ]"
      ],
      "metadata": {
        "id": "b47zeCGTC5ZM"
      },
      "execution_count": null,
      "outputs": []
    },
    {
      "cell_type": "markdown",
      "source": [
        "Defining X_train , X_val , y_train and y_val"
      ],
      "metadata": {
        "id": "sp9r91q7xT2v"
      }
    },
    {
      "cell_type": "code",
      "source": [
        "X_train = train_set.drop(['Survived'],axis = 1)\n",
        "X_val = val_set.drop([\"Survived\"],axis = 1)\n",
        "y_train = train_set[\"Survived\"]\n",
        "y_val = val_set[\"Survived\"]"
      ],
      "metadata": {
        "id": "84WhyXZNFejZ"
      },
      "execution_count": null,
      "outputs": []
    },
    {
      "cell_type": "markdown",
      "source": [
        "## Code for implementation of KNN algorithm"
      ],
      "metadata": {
        "id": "C9tXEULmxJj4"
      }
    },
    {
      "cell_type": "markdown",
      "source": [
        "![knn.png](data:image/png;base64,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)"
      ],
      "metadata": {
        "id": "m2KlIO35mRx8"
      }
    },
    {
      "cell_type": "code",
      "source": [
        "import numpy as np\n",
        "from scipy.stats import mode\n",
        " \n",
        "#Euclidean Distance\n",
        "def eucledian(p1,p2):\n",
        "    dist = np.sqrt(np.sum((p1-p2)**2))\n",
        "    return dist\n",
        " \n",
        "#Function to calculate KNN\n",
        "def predict(x_train, y , x_input, k):\n",
        "    op_labels = []\n",
        "     \n",
        "    #Loop through the Datapoints to be classified\n",
        "    for item in x_input: \n",
        "         \n",
        "        #Array to store distances\n",
        "        point_dist = []\n",
        "         \n",
        "        #Loop through each training Data\n",
        "        for j in range(len(x_train)): \n",
        "            distances = eucledian(np.array(x_train[j,:]) , item) \n",
        "            #Calculating the distance\n",
        "            point_dist.append(distances) \n",
        "        point_dist = np.array(point_dist) \n",
        "         \n",
        "        #Sorting the array while preserving the index\n",
        "        #Keeping the first K datapoints\n",
        "        dist = np.argsort(point_dist)[:k] \n",
        "         \n",
        "        #Labels of the K datapoints from above\n",
        "        labels = y[dist]\n",
        "         \n",
        "        #Majority voting\n",
        "        lab = mode(labels) \n",
        "        lab = lab.mode[0]\n",
        "        op_labels.append(lab)\n",
        " \n",
        "    return op_labels"
      ],
      "metadata": {
        "id": "IwVbN5EKFelw"
      },
      "execution_count": null,
      "outputs": []
    },
    {
      "cell_type": "markdown",
      "source": [
        "Function to calculate accuracy "
      ],
      "metadata": {
        "id": "8_KIuyxAxcIg"
      }
    },
    {
      "cell_type": "code",
      "source": [
        "def accuracy(y_true,y_pred,normalize=True):\n",
        "    accuracy=[]\n",
        "    for i in range(len(y_pred)):\n",
        "        if y_pred[i]==y_true[i]:\n",
        "            accuracy.append(1)\n",
        "        else:\n",
        "            accuracy.append(0)\n",
        "    if normalize==True:\n",
        "        return np.mean(accuracy)\n",
        "    if normalize==False:\n",
        "        return sum(accuracy)"
      ],
      "metadata": {
        "id": "n3AR84xowmR0"
      },
      "execution_count": null,
      "outputs": []
    },
    {
      "cell_type": "markdown",
      "source": [
        "## Finding the best value of K using a range of values between 1 and 80"
      ],
      "metadata": {
        "id": "wVj6jdwhxgTc"
      }
    },
    {
      "cell_type": "code",
      "source": [
        "accuracy_vals = []\n",
        "\n",
        "for k in range(3,80) :\n",
        "  y_preds_k = predict(np.array(X_train) , np.array(y_train) , np.array(X_val) , k)\n",
        "  accuracy_k = accuracy(np.array(y_val) , y_preds_k)\n",
        "  accuracy_vals.append(accuracy_k)"
      ],
      "metadata": {
        "id": "vxV1gsPYwKzC"
      },
      "execution_count": null,
      "outputs": []
    },
    {
      "cell_type": "code",
      "source": [
        "x_vals = np.arange(3,80)\n",
        "y_vals = accuracy_vals\n",
        "\n",
        "plt.figure(figsize = (12,6))\n",
        "\n",
        "plt.plot(x_vals , y_vals)\n",
        "plt.title(\"K vs Accuracy\")\n",
        "plt.xlabel(\"Value of K\")\n",
        "plt.ylabel(\"Accuracy\")\n",
        "\n",
        "plt.show()"
      ],
      "metadata": {
        "colab": {
          "base_uri": "https://localhost:8080/",
          "height": 404
        },
        "id": "ZX_GXZqOwK1e",
        "outputId": "e79f8f12-88bf-4a78-a818-5d3fe831ec48"
      },
      "execution_count": null,
      "outputs": [
        {
          "output_type": "display_data",
          "data": {
            "text/plain": [
              "<Figure size 864x432 with 1 Axes>"
            ],
            "image/png": "[encoded data removed]"
          },
          "metadata": {
            "needs_background": "light"
          }
        }
      ]
    },
    {
      "cell_type": "markdown",
      "source": [
        "## From the graph of K vs Accuracy , we can infer that a value around 20-25 will give us the best accuracy"
      ],
      "metadata": {
        "id": "vgg1KCXBwK32"
      }
    },
    {
      "cell_type": "code",
      "source": [
        "y_preds_best = predict(np.array(X_train) , np.array(y_train) , np.array(X_val) , 21)"
      ],
      "metadata": {
        "id": "13Qe6svXFeoG"
      },
      "execution_count": null,
      "outputs": []
    },
    {
      "cell_type": "code",
      "source": [
        "print(\"Best accuracy : {} %\".format(round(accuracy(np.array(y_val) , y_preds_best )*100,2)))"
      ],
      "metadata": {
        "colab": {
          "base_uri": "https://localhost:8080/"
        },
        "id": "uSA-PVICFmSe",
        "outputId": "47a76b64-88a3-42c1-9dd6-3a70ee2a3457"
      },
      "execution_count": null,
      "outputs": [
        {
          "output_type": "stream",
          "name": "stdout",
          "text": [
            "Best accuracy : 86.59 %\n"
          ]
        }
      ]
    },
    {
      "cell_type": "code",
      "source": [
        ""
      ],
      "metadata": {
        "id": "MaspMGabxrFi"
      },
      "execution_count": null,
      "outputs": []
    }
  ]
}