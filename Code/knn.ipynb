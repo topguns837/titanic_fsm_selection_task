{
  "nbformat": 4,
  "nbformat_minor": 0,
  "metadata": {
    "colab": {
      "name": "knn.ipynb",
      "provenance": []
    },
    "kernelspec": {
      "name": "python3",
      "display_name": "Python 3"
    },
    "language_info": {
      "name": "python"
    }
  },
  "cells": [
    {
      "cell_type": "code",
      "execution_count": null,
      "metadata": {
        "id": "BI5nwZJOCL_x"
      },
      "outputs": [],
      "source": [
        "import pandas as pd\n",
        "import numpy as np\n",
        "import matplotlib.pyplot as plt"
      ]
    },
    {
      "cell_type": "code",
      "source": [
        "train = pd.read_csv('cleaned_train.csv')\n",
        "test = pd.read_csv('cleaned_test.csv')"
      ],
      "metadata": {
        "id": "47SEF8sRCSY2"
      },
      "execution_count": null,
      "outputs": []
    },
    {
      "cell_type": "code",
      "source": [
        "train.isnull().sum()"
      ],
      "metadata": {
        "colab": {
          "base_uri": "https://localhost:8080/"
        },
        "id": "sVyAAwrZCSbM",
        "outputId": "6fdd5fd1-f59b-4f93-efbd-c0dc64db2a4c"
      },
      "execution_count": null,
      "outputs": [
        {
          "output_type": "execute_result",
          "data": {
            "text/plain": [
              "Survived       2\n",
              "Pclass         2\n",
              "SibSp          2\n",
              "Parch          2\n",
              "Gender_Name    2\n",
              "male           2\n",
              "Embarked_Q     2\n",
              "Embarked_S     2\n",
              "Age            2\n",
              "dtype: int64"
            ]
          },
          "metadata": {},
          "execution_count": 31
        }
      ]
    },
    {
      "cell_type": "code",
      "source": [
        "train.dropna(inplace=True)"
      ],
      "metadata": {
        "id": "AYiFB4E_CSdU"
      },
      "execution_count": null,
      "outputs": []
    },
    {
      "cell_type": "code",
      "source": [
        "test.dropna(inplace = True)"
      ],
      "metadata": {
        "id": "EBObIiR7CSfs"
      },
      "execution_count": null,
      "outputs": []
    },
    {
      "cell_type": "code",
      "source": [
        "import pandas as pd \n",
        " \n",
        "train_size = int(0.8 * len(train))\n",
        "\n",
        "\n",
        "train_set = train.iloc[:train_size , : ]\n",
        "val_set = train.iloc[train_size: , : ]"
      ],
      "metadata": {
        "id": "b47zeCGTC5ZM"
      },
      "execution_count": null,
      "outputs": []
    },
    {
      "cell_type": "code",
      "source": [
        "X_train = train_set.drop(['Survived'],axis = 1)\n",
        "X_val = val_set.drop([\"Survived\"],axis = 1)\n",
        "y_train = train_set[\"Survived\"]\n",
        "y_val = val_set[\"Survived\"]"
      ],
      "metadata": {
        "id": "84WhyXZNFejZ"
      },
      "execution_count": null,
      "outputs": []
    },
    {
      "cell_type": "code",
      "source": [
        "import numpy as np\n",
        "from scipy.stats import mode\n",
        " \n",
        "#Euclidean Distance\n",
        "def eucledian(p1,p2):\n",
        "    dist = np.sqrt(np.sum((p1-p2)**2))\n",
        "    return dist\n",
        " \n",
        "#Function to calculate KNN\n",
        "def predict(x_train, y , x_input, k):\n",
        "    op_labels = []\n",
        "     \n",
        "    #Loop through the Datapoints to be classified\n",
        "    for item in x_input: \n",
        "         \n",
        "        #Array to store distances\n",
        "        point_dist = []\n",
        "         \n",
        "        #Loop through each training Data\n",
        "        for j in range(len(x_train)): \n",
        "            distances = eucledian(np.array(x_train[j,:]) , item) \n",
        "            #Calculating the distance\n",
        "            point_dist.append(distances) \n",
        "        point_dist = np.array(point_dist) \n",
        "         \n",
        "        #Sorting the array while preserving the index\n",
        "        #Keeping the first K datapoints\n",
        "        dist = np.argsort(point_dist)[:k] \n",
        "         \n",
        "        #Labels of the K datapoints from above\n",
        "        labels = y[dist]\n",
        "         \n",
        "        #Majority voting\n",
        "        lab = mode(labels) \n",
        "        lab = lab.mode[0]\n",
        "        op_labels.append(lab)\n",
        " \n",
        "    return op_labels"
      ],
      "metadata": {
        "id": "IwVbN5EKFelw"
      },
      "execution_count": null,
      "outputs": []
    },
    {
      "cell_type": "code",
      "source": [
        "y_preds = predict(np.array(X_train) , np.array(y_train) , np.array(X_val) , 5)"
      ],
      "metadata": {
        "id": "13Qe6svXFeoG"
      },
      "execution_count": null,
      "outputs": []
    },
    {
      "cell_type": "code",
      "source": [
        ""
      ],
      "metadata": {
        "id": "_0gPlfPKFmNP"
      },
      "execution_count": null,
      "outputs": []
    },
    {
      "cell_type": "code",
      "source": [
        "def accuracy(y_true,y_pred,normalize=True):\n",
        "    accuracy=[]\n",
        "    for i in range(len(y_pred)):\n",
        "        if y_pred[i]==y_true[i]:\n",
        "            accuracy.append(1)\n",
        "        else:\n",
        "            accuracy.append(0)\n",
        "    if normalize==True:\n",
        "        return np.mean(accuracy)\n",
        "    if normalize==False:\n",
        "        return sum(accuracy)"
      ],
      "metadata": {
        "id": "20p1TujzFmQG"
      },
      "execution_count": null,
      "outputs": []
    },
    {
      "cell_type": "code",
      "source": [
        "print(accuracy(np.array(y_val) , y_preds))"
      ],
      "metadata": {
        "colab": {
          "base_uri": "https://localhost:8080/"
        },
        "id": "uSA-PVICFmSe",
        "outputId": "bc51e5c5-9bdc-4cfa-b57d-5a231265ce2b"
      },
      "execution_count": null,
      "outputs": [
        {
          "output_type": "stream",
          "name": "stdout",
          "text": [
            "0.8539325842696629\n"
          ]
        }
      ]
    },
    {
      "cell_type": "code",
      "source": [
        "y_val.isnull().sum()"
      ],
      "metadata": {
        "colab": {
          "base_uri": "https://localhost:8080/"
        },
        "id": "gJSlz7iPFmVP",
        "outputId": "032bce32-8a6d-49d1-8c1c-c85971fee27c"
      },
      "execution_count": null,
      "outputs": [
        {
          "output_type": "execute_result",
          "data": {
            "text/plain": [
              "0"
            ]
          },
          "metadata": {},
          "execution_count": 43
        }
      ]
    },
    {
      "cell_type": "code",
      "source": [
        ""
      ],
      "metadata": {
        "id": "t2e5v7d4FmXZ"
      },
      "execution_count": null,
      "outputs": []
    },
    {
      "cell_type": "code",
      "source": [
        ""
      ],
      "metadata": {
        "id": "9CyW6qnQFmaE"
      },
      "execution_count": null,
      "outputs": []
    },
    {
      "cell_type": "code",
      "source": [
        ""
      ],
      "metadata": {
        "id": "Uy0Spk3KFmcz"
      },
      "execution_count": null,
      "outputs": []
    },
    {
      "cell_type": "code",
      "source": [
        ""
      ],
      "metadata": {
        "id": "gbwLyV2ZFmfB"
      },
      "execution_count": null,
      "outputs": []
    },
    {
      "cell_type": "code",
      "source": [
        ""
      ],
      "metadata": {
        "id": "eTOYbkXyFmhm"
      },
      "execution_count": null,
      "outputs": []
    },
    {
      "cell_type": "code",
      "source": [
        ""
      ],
      "metadata": {
        "id": "2T0lAyvBFmj9"
      },
      "execution_count": null,
      "outputs": []
    },
    {
      "cell_type": "code",
      "source": [
        ""
      ],
      "metadata": {
        "id": "_3Mus8duFetu"
      },
      "execution_count": null,
      "outputs": []
    },
    {
      "cell_type": "code",
      "source": [
        ""
      ],
      "metadata": {
        "id": "qOfKLv7GFexm"
      },
      "execution_count": null,
      "outputs": []
    }
  ]
}