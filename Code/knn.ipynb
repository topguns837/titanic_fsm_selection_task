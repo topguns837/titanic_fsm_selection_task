{
  "nbformat": 4,
  "nbformat_minor": 0,
  "metadata": {
    "colab": {
      "name": "knn.ipynb",
      "provenance": []
    },
    "kernelspec": {
      "name": "python3",
      "display_name": "Python 3"
    },
    "language_info": {
      "name": "python"
    }
  },
  "cells": [
    {
      "cell_type": "code",
      "execution_count": 46,
      "metadata": {
        "id": "BI5nwZJOCL_x"
      },
      "outputs": [],
      "source": [
        "import pandas as pd\n",
        "import numpy as np\n",
        "import matplotlib.pyplot as plt"
      ]
    },
    {
      "cell_type": "code",
      "source": [
        "train = pd.read_csv('cleaned_train.csv')\n",
        "test = pd.read_csv('cleaned_test.csv')"
      ],
      "metadata": {
        "id": "47SEF8sRCSY2"
      },
      "execution_count": 47,
      "outputs": []
    },
    {
      "cell_type": "code",
      "source": [
        "train.isnull().sum()"
      ],
      "metadata": {
        "colab": {
          "base_uri": "https://localhost:8080/"
        },
        "id": "sVyAAwrZCSbM",
        "outputId": "d49023f6-bc78-479a-eb2d-0140949f83d2"
      },
      "execution_count": 48,
      "outputs": [
        {
          "output_type": "execute_result",
          "data": {
            "text/plain": [
              "Survived       2\n",
              "Pclass         2\n",
              "SibSp          2\n",
              "Parch          2\n",
              "Gender_Name    2\n",
              "male           2\n",
              "Embarked_Q     2\n",
              "Embarked_S     2\n",
              "Age            2\n",
              "dtype: int64"
            ]
          },
          "metadata": {},
          "execution_count": 48
        }
      ]
    },
    {
      "cell_type": "markdown",
      "source": [
        "Drop null values"
      ],
      "metadata": {
        "id": "JxwkV8OXxQWX"
      }
    },
    {
      "cell_type": "code",
      "source": [
        "train.dropna(inplace=True)"
      ],
      "metadata": {
        "id": "AYiFB4E_CSdU"
      },
      "execution_count": 49,
      "outputs": []
    },
    {
      "cell_type": "code",
      "source": [
        "test.dropna(inplace = True)"
      ],
      "metadata": {
        "id": "EBObIiR7CSfs"
      },
      "execution_count": 50,
      "outputs": []
    },
    {
      "cell_type": "markdown",
      "source": [
        "Train-Validation Split\n"
      ],
      "metadata": {
        "id": "PXwxAzt4tRZ9"
      }
    },
    {
      "cell_type": "code",
      "source": [
        "import pandas as pd \n",
        " \n",
        "train_size = int(0.8 * len(train))\n",
        "\n",
        "\n",
        "train_set = train.iloc[:train_size , : ]\n",
        "val_set = train.iloc[train_size: , : ]"
      ],
      "metadata": {
        "id": "b47zeCGTC5ZM"
      },
      "execution_count": 51,
      "outputs": []
    },
    {
      "cell_type": "markdown",
      "source": [
        "Defining X_train , X_val , y_train and y_val"
      ],
      "metadata": {
        "id": "sp9r91q7xT2v"
      }
    },
    {
      "cell_type": "code",
      "source": [
        "X_train = train_set.drop(['Survived'],axis = 1)\n",
        "X_val = val_set.drop([\"Survived\"],axis = 1)\n",
        "y_train = train_set[\"Survived\"]\n",
        "y_val = val_set[\"Survived\"]"
      ],
      "metadata": {
        "id": "84WhyXZNFejZ"
      },
      "execution_count": 52,
      "outputs": []
    },
    {
      "cell_type": "markdown",
      "source": [
        "## Code for implementation of KNN algorithm"
      ],
      "metadata": {
        "id": "C9tXEULmxJj4"
      }
    },
    {
      "cell_type": "code",
      "source": [
        "import numpy as np\n",
        "from scipy.stats import mode\n",
        " \n",
        "#Euclidean Distance\n",
        "def eucledian(p1,p2):\n",
        "    dist = np.sqrt(np.sum((p1-p2)**2))\n",
        "    return dist\n",
        " \n",
        "#Function to calculate KNN\n",
        "def predict(x_train, y , x_input, k):\n",
        "    op_labels = []\n",
        "     \n",
        "    #Loop through the Datapoints to be classified\n",
        "    for item in x_input: \n",
        "         \n",
        "        #Array to store distances\n",
        "        point_dist = []\n",
        "         \n",
        "        #Loop through each training Data\n",
        "        for j in range(len(x_train)): \n",
        "            distances = eucledian(np.array(x_train[j,:]) , item) \n",
        "            #Calculating the distance\n",
        "            point_dist.append(distances) \n",
        "        point_dist = np.array(point_dist) \n",
        "         \n",
        "        #Sorting the array while preserving the index\n",
        "        #Keeping the first K datapoints\n",
        "        dist = np.argsort(point_dist)[:k] \n",
        "         \n",
        "        #Labels of the K datapoints from above\n",
        "        labels = y[dist]\n",
        "         \n",
        "        #Majority voting\n",
        "        lab = mode(labels) \n",
        "        lab = lab.mode[0]\n",
        "        op_labels.append(lab)\n",
        " \n",
        "    return op_labels"
      ],
      "metadata": {
        "id": "IwVbN5EKFelw"
      },
      "execution_count": 53,
      "outputs": []
    },
    {
      "cell_type": "markdown",
      "source": [
        "Function to calculate accuracy "
      ],
      "metadata": {
        "id": "8_KIuyxAxcIg"
      }
    },
    {
      "cell_type": "code",
      "source": [
        "def accuracy(y_true,y_pred,normalize=True):\n",
        "    accuracy=[]\n",
        "    for i in range(len(y_pred)):\n",
        "        if y_pred[i]==y_true[i]:\n",
        "            accuracy.append(1)\n",
        "        else:\n",
        "            accuracy.append(0)\n",
        "    if normalize==True:\n",
        "        return np.mean(accuracy)\n",
        "    if normalize==False:\n",
        "        return sum(accuracy)"
      ],
      "metadata": {
        "id": "n3AR84xowmR0"
      },
      "execution_count": 54,
      "outputs": []
    },
    {
      "cell_type": "markdown",
      "source": [
        "## Finding the best value of K using a range of values between 1 and 80"
      ],
      "metadata": {
        "id": "wVj6jdwhxgTc"
      }
    },
    {
      "cell_type": "code",
      "source": [
        "accuracy_vals = []\n",
        "\n",
        "for k in range(3,80) :\n",
        "  y_preds_k = predict(np.array(X_train) , np.array(y_train) , np.array(X_val) , k)\n",
        "  accuracy_k = accuracy(np.array(y_val) , y_preds_k)\n",
        "  accuracy_vals.append(accuracy_k)"
      ],
      "metadata": {
        "id": "vxV1gsPYwKzC"
      },
      "execution_count": 55,
      "outputs": []
    },
    {
      "cell_type": "code",
      "source": [
        "x_vals = np.arange(3,80)\n",
        "y_vals = accuracy_vals\n",
        "\n",
        "plt.figure(figsize = (12,6))\n",
        "\n",
        "plt.plot(x_vals , y_vals)\n",
        "plt.title(\"K vs Accuracy\")\n",
        "plt.xlabel(\"Value of K\")\n",
        "plt.ylabel(\"Accuracy\")\n",
        "\n",
        "plt.show()"
      ],
      "metadata": {
        "colab": {
          "base_uri": "https://localhost:8080/",
          "height": 404
        },
        "id": "ZX_GXZqOwK1e",
        "outputId": "d0f5df6f-aa9b-48e6-ce74-8fc4e1a6cc29"
      },
      "execution_count": 56,
      "outputs": [
        {
          "output_type": "display_data",
          "data": {
            "text/plain": [
              "<Figure size 864x432 with 1 Axes>"
            ],
            "image/png": "[encoded data removed]"
          },
          "metadata": {
            "needs_background": "light"
          }
        }
      ]
    },
    {
      "cell_type": "markdown",
      "source": [
        "## From the graph of K vs Accuracy , we can infer that a value around 20-25 will give us the best accuracy"
      ],
      "metadata": {
        "id": "vgg1KCXBwK32"
      }
    },
    {
      "cell_type": "code",
      "source": [
        "y_preds_best = predict(np.array(X_train) , np.array(y_train) , np.array(X_val) , 21)"
      ],
      "metadata": {
        "id": "13Qe6svXFeoG"
      },
      "execution_count": 57,
      "outputs": []
    },
    {
      "cell_type": "code",
      "source": [
        "print(\"Best accuracy : {} %\".format(round(accuracy(np.array(y_val) , y_preds_best )*100,2)))"
      ],
      "metadata": {
        "colab": {
          "base_uri": "https://localhost:8080/"
        },
        "id": "uSA-PVICFmSe",
        "outputId": "95f71f99-e7fd-492e-ace7-fdd54fa6dcdb"
      },
      "execution_count": 58,
      "outputs": [
        {
          "output_type": "stream",
          "name": "stdout",
          "text": [
            "Best accuracy : 87.08 %\n"
          ]
        }
      ]
    },
    {
      "cell_type": "code",
      "source": [
        ""
      ],
      "metadata": {
        "id": "MaspMGabxrFi"
      },
      "execution_count": null,
      "outputs": []
    }
  ]
}